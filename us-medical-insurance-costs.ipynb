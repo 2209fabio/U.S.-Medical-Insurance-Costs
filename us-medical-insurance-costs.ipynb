{
 "cells": [
  {
   "cell_type": "markdown",
   "metadata": {},
   "source": [
    "# U.S. Medical Insurance Costs\n",
    "\n",
    "In this project, I am going to investigate a **csv** file using the Python skills developed along the *Python Fundamentals* section of the *Data Scientist Path* on *CodeAcademy*. \n",
    "\n",
    "The **insurance.csv** file contains real world data about *US medical insurance costs*. The project will not provide me step-by-step instructions on what to do, but it's asking me to perform my own independent analysis, only suggesting me a framework to structure exploration and analysis.\n",
    "\n",
    "The project objectives are the following: \n",
    " - Work locally on your own computer\n",
    " - Import a dataset into your program\n",
    " - Analyze a dataset by building out functions or class methods\n",
    " - Use libraries to assist in your analysis\n",
    " - Optional: Document and organize your findings\n",
    " - Optional: Make predictions about a dataset’s features based on your findings"
   ]
  },
  {
   "cell_type": "markdown",
   "metadata": {},
   "source": [
    "### **Import the dataset**: \n",
    "*Import insurance.cvs into your Python file. Make sure that the information is easy to access.*\n",
    "\n",
    "\n",
    "\n",
    "The only library I need to import for this project is the *csv library*:"
   ]
  },
  {
   "cell_type": "code",
   "execution_count": 2,
   "metadata": {},
   "outputs": [],
   "source": [
    "import csv"
   ]
  },
  {
   "cell_type": "markdown",
   "metadata": {},
   "source": [
    "### **Look over the dataset**:\n",
    "\n",
    "*Open insurance.cvs and take a look at the file. Take note of how information is organized. How will this affect how you analyze the data in Python? Is there anything of particular interest to you in the dataset that you want to investigate? Think about these things before you jump into Python.*\n",
    "\n",
    "\n",
    "\n",
    "**insurance.csv** contains the following columns separated by **,** : \n",
    " - **Age** : Patient Age\n",
    " - **Sex** : Patient Sex\n",
    " - **BMI** : Patient BMI\n",
    " - **Children**: Patient Number of Children\n",
    " - **Smoker**: Patient Smoking Status\n",
    " - **Region**: Patient US Geographical Region\n",
    " - **Charges**: Patient Yearly Medical Insurance Cost\n",
    "\n",
    "\n",
    "Some important notes about this dataset:\n",
    " - There is no missing data.\n",
    " - There are seven columns.\n",
    " - Some columns are numerical while some are categorical.\n",
    "\n"
   ]
  },
  {
   "cell_type": "markdown",
   "metadata": {},
   "source": [
    "### Scoping the project\n",
    "*Now that you have looked over your dataset, plan out what you want to analyze. What is it that you want to find out about this dataset? Based on the way information is organized, certain inspections may be easier to perform than others. As you map out the process, consider the scope of your analysis as well.*\n",
    "*Properly scoping your project will greatly benefit you; scoping creates structure while requiring you to think through your entire project before you begin. You should start by stating the goals for your project, then gathering the data, and considering the analytical steps required. A proper project scope can be a great road map for your project, but keep in mind that some down-stream tasks may become dead ends which will require adjustment to the scope.*"
   ]
  },
  {
   "cell_type": "markdown",
   "metadata": {},
   "source": [
    "I define the scope of the project by explaining the 4 steps:\n",
    "\n",
    "**1. What is the goal?**\n",
    "   \n",
    " I want to determine the Region of the US with the higher number of smokers under 21.\n",
    " Why?\n",
    " Because I want to implement then a TV promotional campaign against smoke in that Region targeting local TV Shows for kids and \n",
    " teenagers. \n",
    " Due to limited funds, I can only realize the campaign in one Region, that's why I need to determine where is the higher rate \n",
    " of underage smokers.\n",
    "   \n",
    "**2. What action will be undertaken because of this project?**\n",
    "\n",
    " The action that I foresee to be implemented after the analysis is the mentioned TV campaign to persuade youngsters in \n",
    " the Region to stop smoking or not smoking at all. \n",
    "\n",
    "**3. What data do I need?**\n",
    "\n",
    " I need a dataset sample containing indicators regarding age, region and smoking status. \n",
    " \n",
    "\n",
    "**4. What analysis needs to be done? Does it involve description, detection, prediction, or behavior change? How will the analysis be validated?**\n",
    "\n",
    " I am going to make a descriptive analysis on the provided dataset to find out the underage smokers per each region.\n",
    "\n"
   ]
  },
  {
   "cell_type": "markdown",
   "metadata": {},
   "source": [
    "### Save your dataset via Python variables\n",
    "*Organize the information from insurance.csv by storing them in variables that can be used for analysis. As you consider what types of variables to use and how many you plan to create, think ahead about the parameters you wish to investigate and how your organization will impact this analysis.*"
   ]
  },
  {
   "cell_type": "markdown",
   "metadata": {},
   "source": [
    "Given my scope project, let's create 3 single variables (lists): \n",
    " - Ages\n",
    " - Smokers\n",
    " - Regions\n",
    "\n",
    "... and one big list joining the 3 single variables;\n",
    " - one_list"
   ]
  },
  {
   "cell_type": "code",
   "execution_count": 3,
   "metadata": {},
   "outputs": [],
   "source": [
    "ages = []\n",
    "with open(\"insurance.csv\", newline = \"\") as age_data:\n",
    "    age_reader = csv.DictReader(age_data, delimiter = \",\")\n",
    "    for row in age_reader:\n",
    "        ages.append(row[\"age\"])\n"
   ]
  },
  {
   "cell_type": "code",
   "execution_count": 4,
   "metadata": {},
   "outputs": [
    {
     "name": "stdout",
     "output_type": "stream",
     "text": [
      "['19', '18', '28', '33', '32', '31', '46', '37', '37', '60', '25', '62', '23', '56', '27', '19', '52', '23', '56', '30', '60', '30', '18', '34', '37', '59', '63', '55', '23', '31', '22', '18', '19', '63', '28', '19', '62', '26', '35', '60', '24', '31', '41', '37', '38', '55', '18', '28', '60', '36', '18', '21', '48', '36', '40', '58', '58', '18', '53', '34', '43', '25', '64', '28', '20', '19', '61', '40', '40', '28', '27', '31', '53', '58', '44', '57', '29', '21', '22', '41', '31', '45', '22', '48', '37', '45', '57', '56', '46', '55', '21', '53', '59', '35', '64', '28', '54', '55', '56', '38', '41', '30', '18', '61', '34', '20', '19', '26', '29', '63', '54', '55', '37', '21', '52', '60', '58', '29', '49', '37', '44', '18', '20', '44', '47', '26', '19', '52', '32', '38', '59', '61', '53', '19', '20', '22', '19', '22', '54', '22', '34', '26', '34', '29', '30', '29', '46', '51', '53', '19', '35', '48', '32', '42', '40', '44', '48', '18', '30', '50', '42', '18', '54', '32', '37', '47', '20', '32', '19', '27', '63', '49', '18', '35', '24', '63', '38', '54', '46', '41', '58', '18', '22', '44', '44', '36', '26', '30', '41', '29', '61', '36', '25', '56', '18', '19', '39', '45', '51', '64', '19', '48', '60', '27', '46', '28', '59', '35', '63', '40', '20', '40', '24', '34', '45', '41', '53', '27', '26', '24', '34', '53', '32', '19', '42', '55', '28', '58', '41', '47', '42', '59', '19', '59', '39', '40', '18', '31', '19', '44', '23', '33', '55', '40', '63', '54', '60', '24', '19', '29', '18', '63', '54', '27', '50', '55', '56', '38', '51', '19', '58', '20', '52', '19', '53', '46', '40', '59', '45', '49', '18', '50', '41', '50', '25', '47', '19', '22', '59', '51', '40', '54', '30', '55', '52', '46', '46', '63', '59', '52', '28', '29', '25', '22', '25', '18', '19', '47', '31', '48', '36', '53', '56', '28', '57', '29', '28', '30', '58', '41', '50', '19', '43', '49', '27', '52', '50', '54', '44', '32', '34', '26', '34', '57', '29', '40', '27', '45', '64', '52', '61', '52', '61', '56', '43', '64', '60', '62', '50', '46', '24', '62', '60', '63', '49', '34', '33', '46', '36', '19', '57', '50', '30', '33', '18', '46', '46', '47', '23', '18', '48', '35', '19', '21', '21', '49', '56', '42', '44', '18', '61', '57', '42', '26', '20', '23', '39', '24', '64', '62', '27', '55', '55', '35', '44', '19', '58', '50', '26', '24', '48', '19', '48', '49', '46', '46', '43', '21', '64', '18', '51', '47', '64', '49', '31', '52', '33', '47', '38', '32', '19', '44', '26', '25', '19', '43', '52', '36', '64', '63', '64', '61', '40', '25', '48', '45', '38', '18', '21', '27', '19', '29', '42', '60', '31', '60', '22', '35', '52', '26', '31', '33', '18', '59', '56', '45', '60', '56', '40', '35', '39', '30', '24', '20', '32', '59', '55', '57', '56', '40', '49', '42', '62', '56', '19', '30', '60', '56', '28', '18', '27', '18', '19', '47', '54', '61', '24', '25', '21', '23', '63', '49', '18', '51', '48', '31', '54', '19', '44', '53', '19', '61', '18', '61', '21', '20', '31', '45', '44', '62', '29', '43', '51', '19', '38', '37', '22', '21', '24', '57', '56', '27', '51', '19', '39', '58', '20', '45', '35', '31', '50', '32', '51', '38', '42', '18', '19', '51', '46', '18', '57', '62', '59', '37', '64', '38', '33', '46', '46', '53', '34', '20', '63', '54', '54', '49', '28', '54', '25', '43', '63', '32', '62', '52', '25', '28', '46', '34', '35', '19', '46', '54', '27', '50', '18', '19', '38', '41', '49', '48', '31', '18', '30', '62', '57', '58', '22', '31', '52', '25', '59', '19', '39', '32', '19', '33', '21', '34', '61', '38', '58', '47', '20', '21', '41', '46', '42', '34', '43', '52', '18', '51', '56', '64', '19', '51', '27', '59', '28', '30', '47', '38', '18', '34', '20', '47', '56', '49', '19', '55', '30', '37', '49', '18', '59', '29', '36', '33', '58', '44', '53', '24', '29', '40', '51', '64', '19', '35', '39', '56', '33', '42', '61', '23', '43', '48', '39', '40', '18', '58', '49', '53', '48', '45', '59', '52', '26', '27', '48', '57', '37', '57', '32', '18', '64', '43', '49', '40', '62', '40', '30', '29', '36', '41', '44', '45', '55', '60', '56', '49', '21', '19', '39', '53', '33', '53', '42', '40', '47', '27', '21', '47', '20', '24', '27', '26', '53', '41', '56', '23', '21', '50', '53', '34', '47', '33', '51', '49', '31', '36', '18', '50', '43', '20', '24', '60', '49', '60', '51', '58', '51', '53', '62', '19', '50', '30', '41', '29', '18', '41', '35', '53', '24', '48', '59', '49', '37', '26', '23', '29', '45', '27', '53', '31', '50', '50', '34', '19', '47', '28', '37', '21', '64', '58', '24', '31', '39', '47', '30', '18', '22', '23', '33', '27', '45', '57', '47', '42', '64', '38', '61', '53', '44', '19', '41', '51', '40', '45', '35', '53', '30', '18', '51', '50', '31', '35', '60', '21', '29', '62', '39', '19', '22', '53', '39', '27', '30', '30', '58', '33', '42', '64', '21', '18', '23', '45', '40', '19', '18', '25', '46', '33', '54', '28', '36', '20', '24', '23', '47', '33', '45', '26', '18', '44', '60', '64', '56', '36', '41', '39', '63', '36', '28', '58', '36', '42', '36', '56', '35', '59', '21', '59', '23', '57', '53', '60', '51', '23', '27', '55', '37', '61', '46', '53', '49', '20', '48', '25', '25', '57', '37', '38', '55', '36', '51', '40', '18', '57', '61', '25', '50', '26', '42', '43', '44', '23', '49', '33', '41', '37', '22', '23', '21', '51', '25', '32', '57', '36', '22', '57', '64', '36', '54', '47', '62', '61', '43', '19', '18', '19', '49', '60', '26', '49', '60', '26', '27', '44', '63', '32', '22', '18', '59', '44', '33', '24', '43', '45', '61', '35', '62', '62', '38', '34', '43', '50', '19', '57', '62', '41', '26', '39', '46', '45', '32', '59', '44', '39', '18', '53', '18', '50', '18', '19', '62', '56', '42', '37', '42', '25', '57', '51', '30', '44', '34', '31', '54', '24', '43', '48', '19', '29', '63', '46', '52', '35', '51', '44', '21', '39', '50', '34', '22', '19', '26', '29', '48', '26', '45', '36', '54', '34', '31', '27', '20', '44', '43', '45', '34', '24', '26', '38', '50', '38', '27', '39', '39', '63', '33', '36', '30', '24', '24', '48', '47', '29', '28', '47', '25', '51', '48', '43', '61', '48', '38', '59', '19', '26', '54', '21', '51', '22', '47', '18', '47', '21', '19', '23', '54', '37', '46', '55', '30', '18', '61', '54', '22', '45', '22', '19', '35', '18', '20', '28', '55', '43', '43', '22', '25', '49', '44', '64', '49', '47', '27', '55', '48', '45', '24', '32', '24', '57', '59', '36', '29', '42', '48', '39', '63', '54', '37', '63', '21', '54', '60', '32', '47', '21', '28', '63', '18', '32', '38', '32', '62', '39', '55', '57', '52', '56', '47', '55', '23', '22', '50', '18', '51', '22', '52', '25', '33', '53', '29', '58', '37', '54', '49', '50', '26', '45', '54', '38', '48', '28', '23', '55', '41', '25', '33', '30', '23', '46', '53', '27', '23', '63', '55', '35', '34', '19', '39', '27', '57', '52', '28', '50', '44', '26', '33', '19', '50', '41', '52', '39', '50', '52', '60', '20', '55', '42', '18', '58', '43', '35', '48', '36', '19', '23', '20', '32', '43', '34', '30', '18', '41', '35', '57', '29', '32', '37', '18', '43', '56', '38', '29', '22', '52', '40', '23', '31', '42', '24', '25', '48', '23', '45', '20', '62', '43', '23', '31', '41', '58', '48', '31', '19', '19', '41', '40', '31', '37', '46', '22', '51', '18', '35', '59', '36', '37', '59', '36', '39', '18', '52', '27', '18', '40', '29', '46', '38', '30', '40', '50', '20', '41', '33', '38', '42', '56', '58', '52', '20', '54', '58', '45', '26', '63', '58', '37', '25', '52', '64', '22', '28', '18', '28', '45', '33', '18', '32', '24', '19', '20', '40', '34', '42', '51', '54', '55', '52', '32', '28', '41', '43', '49', '64', '55', '24', '20', '45', '26', '25', '43', '35', '26', '57', '22', '32', '39', '25', '48', '47', '18', '18', '61', '47', '28', '36', '20', '44', '38', '19', '21', '46', '58', '20', '18', '28', '33', '19', '45', '62', '25', '43', '42', '24', '29', '32', '25', '41', '42', '33', '34', '19', '30', '18', '19', '18', '35', '39', '31', '62', '62', '42', '31', '61', '42', '51', '23', '52', '57', '23', '52', '50', '18', '18', '21', '61']\n"
     ]
    }
   ],
   "source": [
    "print(ages)"
   ]
  },
  {
   "cell_type": "markdown",
   "metadata": {},
   "source": [
    "I need to convert the numbers into **integers**:"
   ]
  },
  {
   "cell_type": "code",
   "execution_count": 5,
   "metadata": {},
   "outputs": [],
   "source": [
    "ages = [int(i) for i in ages] "
   ]
  },
  {
   "cell_type": "code",
   "execution_count": 6,
   "metadata": {},
   "outputs": [
    {
     "name": "stdout",
     "output_type": "stream",
     "text": [
      "[19, 18, 28, 33, 32, 31, 46, 37, 37, 60, 25, 62, 23, 56, 27, 19, 52, 23, 56, 30, 60, 30, 18, 34, 37, 59, 63, 55, 23, 31, 22, 18, 19, 63, 28, 19, 62, 26, 35, 60, 24, 31, 41, 37, 38, 55, 18, 28, 60, 36, 18, 21, 48, 36, 40, 58, 58, 18, 53, 34, 43, 25, 64, 28, 20, 19, 61, 40, 40, 28, 27, 31, 53, 58, 44, 57, 29, 21, 22, 41, 31, 45, 22, 48, 37, 45, 57, 56, 46, 55, 21, 53, 59, 35, 64, 28, 54, 55, 56, 38, 41, 30, 18, 61, 34, 20, 19, 26, 29, 63, 54, 55, 37, 21, 52, 60, 58, 29, 49, 37, 44, 18, 20, 44, 47, 26, 19, 52, 32, 38, 59, 61, 53, 19, 20, 22, 19, 22, 54, 22, 34, 26, 34, 29, 30, 29, 46, 51, 53, 19, 35, 48, 32, 42, 40, 44, 48, 18, 30, 50, 42, 18, 54, 32, 37, 47, 20, 32, 19, 27, 63, 49, 18, 35, 24, 63, 38, 54, 46, 41, 58, 18, 22, 44, 44, 36, 26, 30, 41, 29, 61, 36, 25, 56, 18, 19, 39, 45, 51, 64, 19, 48, 60, 27, 46, 28, 59, 35, 63, 40, 20, 40, 24, 34, 45, 41, 53, 27, 26, 24, 34, 53, 32, 19, 42, 55, 28, 58, 41, 47, 42, 59, 19, 59, 39, 40, 18, 31, 19, 44, 23, 33, 55, 40, 63, 54, 60, 24, 19, 29, 18, 63, 54, 27, 50, 55, 56, 38, 51, 19, 58, 20, 52, 19, 53, 46, 40, 59, 45, 49, 18, 50, 41, 50, 25, 47, 19, 22, 59, 51, 40, 54, 30, 55, 52, 46, 46, 63, 59, 52, 28, 29, 25, 22, 25, 18, 19, 47, 31, 48, 36, 53, 56, 28, 57, 29, 28, 30, 58, 41, 50, 19, 43, 49, 27, 52, 50, 54, 44, 32, 34, 26, 34, 57, 29, 40, 27, 45, 64, 52, 61, 52, 61, 56, 43, 64, 60, 62, 50, 46, 24, 62, 60, 63, 49, 34, 33, 46, 36, 19, 57, 50, 30, 33, 18, 46, 46, 47, 23, 18, 48, 35, 19, 21, 21, 49, 56, 42, 44, 18, 61, 57, 42, 26, 20, 23, 39, 24, 64, 62, 27, 55, 55, 35, 44, 19, 58, 50, 26, 24, 48, 19, 48, 49, 46, 46, 43, 21, 64, 18, 51, 47, 64, 49, 31, 52, 33, 47, 38, 32, 19, 44, 26, 25, 19, 43, 52, 36, 64, 63, 64, 61, 40, 25, 48, 45, 38, 18, 21, 27, 19, 29, 42, 60, 31, 60, 22, 35, 52, 26, 31, 33, 18, 59, 56, 45, 60, 56, 40, 35, 39, 30, 24, 20, 32, 59, 55, 57, 56, 40, 49, 42, 62, 56, 19, 30, 60, 56, 28, 18, 27, 18, 19, 47, 54, 61, 24, 25, 21, 23, 63, 49, 18, 51, 48, 31, 54, 19, 44, 53, 19, 61, 18, 61, 21, 20, 31, 45, 44, 62, 29, 43, 51, 19, 38, 37, 22, 21, 24, 57, 56, 27, 51, 19, 39, 58, 20, 45, 35, 31, 50, 32, 51, 38, 42, 18, 19, 51, 46, 18, 57, 62, 59, 37, 64, 38, 33, 46, 46, 53, 34, 20, 63, 54, 54, 49, 28, 54, 25, 43, 63, 32, 62, 52, 25, 28, 46, 34, 35, 19, 46, 54, 27, 50, 18, 19, 38, 41, 49, 48, 31, 18, 30, 62, 57, 58, 22, 31, 52, 25, 59, 19, 39, 32, 19, 33, 21, 34, 61, 38, 58, 47, 20, 21, 41, 46, 42, 34, 43, 52, 18, 51, 56, 64, 19, 51, 27, 59, 28, 30, 47, 38, 18, 34, 20, 47, 56, 49, 19, 55, 30, 37, 49, 18, 59, 29, 36, 33, 58, 44, 53, 24, 29, 40, 51, 64, 19, 35, 39, 56, 33, 42, 61, 23, 43, 48, 39, 40, 18, 58, 49, 53, 48, 45, 59, 52, 26, 27, 48, 57, 37, 57, 32, 18, 64, 43, 49, 40, 62, 40, 30, 29, 36, 41, 44, 45, 55, 60, 56, 49, 21, 19, 39, 53, 33, 53, 42, 40, 47, 27, 21, 47, 20, 24, 27, 26, 53, 41, 56, 23, 21, 50, 53, 34, 47, 33, 51, 49, 31, 36, 18, 50, 43, 20, 24, 60, 49, 60, 51, 58, 51, 53, 62, 19, 50, 30, 41, 29, 18, 41, 35, 53, 24, 48, 59, 49, 37, 26, 23, 29, 45, 27, 53, 31, 50, 50, 34, 19, 47, 28, 37, 21, 64, 58, 24, 31, 39, 47, 30, 18, 22, 23, 33, 27, 45, 57, 47, 42, 64, 38, 61, 53, 44, 19, 41, 51, 40, 45, 35, 53, 30, 18, 51, 50, 31, 35, 60, 21, 29, 62, 39, 19, 22, 53, 39, 27, 30, 30, 58, 33, 42, 64, 21, 18, 23, 45, 40, 19, 18, 25, 46, 33, 54, 28, 36, 20, 24, 23, 47, 33, 45, 26, 18, 44, 60, 64, 56, 36, 41, 39, 63, 36, 28, 58, 36, 42, 36, 56, 35, 59, 21, 59, 23, 57, 53, 60, 51, 23, 27, 55, 37, 61, 46, 53, 49, 20, 48, 25, 25, 57, 37, 38, 55, 36, 51, 40, 18, 57, 61, 25, 50, 26, 42, 43, 44, 23, 49, 33, 41, 37, 22, 23, 21, 51, 25, 32, 57, 36, 22, 57, 64, 36, 54, 47, 62, 61, 43, 19, 18, 19, 49, 60, 26, 49, 60, 26, 27, 44, 63, 32, 22, 18, 59, 44, 33, 24, 43, 45, 61, 35, 62, 62, 38, 34, 43, 50, 19, 57, 62, 41, 26, 39, 46, 45, 32, 59, 44, 39, 18, 53, 18, 50, 18, 19, 62, 56, 42, 37, 42, 25, 57, 51, 30, 44, 34, 31, 54, 24, 43, 48, 19, 29, 63, 46, 52, 35, 51, 44, 21, 39, 50, 34, 22, 19, 26, 29, 48, 26, 45, 36, 54, 34, 31, 27, 20, 44, 43, 45, 34, 24, 26, 38, 50, 38, 27, 39, 39, 63, 33, 36, 30, 24, 24, 48, 47, 29, 28, 47, 25, 51, 48, 43, 61, 48, 38, 59, 19, 26, 54, 21, 51, 22, 47, 18, 47, 21, 19, 23, 54, 37, 46, 55, 30, 18, 61, 54, 22, 45, 22, 19, 35, 18, 20, 28, 55, 43, 43, 22, 25, 49, 44, 64, 49, 47, 27, 55, 48, 45, 24, 32, 24, 57, 59, 36, 29, 42, 48, 39, 63, 54, 37, 63, 21, 54, 60, 32, 47, 21, 28, 63, 18, 32, 38, 32, 62, 39, 55, 57, 52, 56, 47, 55, 23, 22, 50, 18, 51, 22, 52, 25, 33, 53, 29, 58, 37, 54, 49, 50, 26, 45, 54, 38, 48, 28, 23, 55, 41, 25, 33, 30, 23, 46, 53, 27, 23, 63, 55, 35, 34, 19, 39, 27, 57, 52, 28, 50, 44, 26, 33, 19, 50, 41, 52, 39, 50, 52, 60, 20, 55, 42, 18, 58, 43, 35, 48, 36, 19, 23, 20, 32, 43, 34, 30, 18, 41, 35, 57, 29, 32, 37, 18, 43, 56, 38, 29, 22, 52, 40, 23, 31, 42, 24, 25, 48, 23, 45, 20, 62, 43, 23, 31, 41, 58, 48, 31, 19, 19, 41, 40, 31, 37, 46, 22, 51, 18, 35, 59, 36, 37, 59, 36, 39, 18, 52, 27, 18, 40, 29, 46, 38, 30, 40, 50, 20, 41, 33, 38, 42, 56, 58, 52, 20, 54, 58, 45, 26, 63, 58, 37, 25, 52, 64, 22, 28, 18, 28, 45, 33, 18, 32, 24, 19, 20, 40, 34, 42, 51, 54, 55, 52, 32, 28, 41, 43, 49, 64, 55, 24, 20, 45, 26, 25, 43, 35, 26, 57, 22, 32, 39, 25, 48, 47, 18, 18, 61, 47, 28, 36, 20, 44, 38, 19, 21, 46, 58, 20, 18, 28, 33, 19, 45, 62, 25, 43, 42, 24, 29, 32, 25, 41, 42, 33, 34, 19, 30, 18, 19, 18, 35, 39, 31, 62, 62, 42, 31, 61, 42, 51, 23, 52, 57, 23, 52, 50, 18, 18, 21, 61]\n"
     ]
    }
   ],
   "source": [
    "print(ages)"
   ]
  },
  {
   "cell_type": "code",
   "execution_count": 7,
   "metadata": {},
   "outputs": [],
   "source": [
    "smokers = []\n",
    "with open(\"insurance.csv\", newline = \"\") as smoker_data:\n",
    "    smoker_reader = csv.DictReader(smoker_data, delimiter = \",\")\n",
    "    for row in smoker_reader:\n",
    "        smokers.append(row[\"smoker\"])"
   ]
  },
  {
   "cell_type": "code",
   "execution_count": 8,
   "metadata": {},
   "outputs": [
    {
     "name": "stdout",
     "output_type": "stream",
     "text": [
      "['yes', 'no', 'no', 'no', 'no', 'no', 'no', 'no', 'no', 'no', 'no', 'yes', 'no', 'no', 'yes', 'no', 'no', 'no', 'no', 'yes', 'no', 'no', 'no', 'yes', 'no', 'no', 'no', 'no', 'no', 'yes', 'yes', 'no', 'no', 'no', 'yes', 'no', 'no', 'no', 'yes', 'yes', 'no', 'no', 'no', 'no', 'no', 'no', 'no', 'no', 'no', 'yes', 'no', 'no', 'yes', 'yes', 'no', 'yes', 'no', 'yes', 'yes', 'no', 'no', 'no', 'no', 'no', 'yes', 'no', 'no', 'no', 'no', 'yes', 'yes', 'no', 'no', 'no', 'no', 'no', 'no', 'no', 'no', 'no', 'no', 'no', 'yes', 'no', 'yes', 'yes', 'yes', 'no', 'no', 'no', 'no', 'no', 'yes', 'no', 'yes', 'no', 'no', 'no', 'yes', 'yes', 'no', 'no', 'no', 'yes', 'no', 'yes', 'no', 'no', 'no', 'yes', 'no', 'no', 'no', 'no', 'no', 'no', 'no', 'yes', 'no', 'no', 'no', 'no', 'no', 'yes', 'no', 'no', 'yes', 'no', 'yes', 'no', 'no', 'no', 'no', 'no', 'no', 'no', 'no', 'no', 'no', 'no', 'no', 'no', 'yes', 'no', 'yes', 'no', 'yes', 'no', 'no', 'no', 'no', 'no', 'no', 'yes', 'no', 'no', 'yes', 'yes', 'yes', 'no', 'yes', 'yes', 'no', 'no', 'no', 'no', 'no', 'no', 'no', 'no', 'no', 'no', 'no', 'no', 'no', 'yes', 'no', 'no', 'no', 'no', 'no', 'no', 'no', 'no', 'no', 'yes', 'no', 'no', 'no', 'no', 'no', 'no', 'no', 'no', 'no', 'no', 'no', 'no', 'no', 'no', 'no', 'no', 'no', 'yes', 'no', 'no', 'no', 'yes', 'no', 'no', 'no', 'no', 'no', 'no', 'no', 'no', 'no', 'no', 'no', 'no', 'no', 'no', 'no', 'yes', 'yes', 'no', 'no', 'no', 'no', 'no', 'no', 'no', 'no', 'no', 'no', 'yes', 'no', 'no', 'yes', 'no', 'yes', 'no', 'no', 'no', 'yes', 'no', 'no', 'no', 'no', 'no', 'yes', 'yes', 'yes', 'no', 'yes', 'no', 'yes', 'no', 'no', 'yes', 'no', 'yes', 'yes', 'yes', 'no', 'yes', 'yes', 'no', 'no', 'no', 'no', 'yes', 'no', 'no', 'no', 'no', 'no', 'no', 'no', 'no', 'yes', 'yes', 'no', 'no', 'no', 'no', 'no', 'no', 'yes', 'no', 'no', 'no', 'yes', 'no', 'no', 'no', 'yes', 'yes', 'yes', 'no', 'no', 'yes', 'no', 'no', 'no', 'no', 'no', 'no', 'no', 'no', 'no', 'no', 'yes', 'no', 'yes', 'no', 'no', 'no', 'no', 'no', 'no', 'no', 'yes', 'no', 'no', 'no', 'no', 'yes', 'yes', 'no', 'yes', 'yes', 'no', 'no', 'no', 'no', 'no', 'no', 'yes', 'no', 'no', 'no', 'no', 'no', 'no', 'no', 'no', 'no', 'no', 'no', 'no', 'no', 'no', 'no', 'no', 'no', 'no', 'no', 'no', 'no', 'no', 'no', 'yes', 'no', 'no', 'no', 'no', 'no', 'no', 'no', 'no', 'no', 'no', 'yes', 'no', 'yes', 'yes', 'yes', 'no', 'no', 'yes', 'yes', 'no', 'no', 'no', 'no', 'no', 'no', 'no', 'no', 'no', 'no', 'no', 'no', 'no', 'no', 'no', 'no', 'no', 'no', 'no', 'no', 'no', 'no', 'no', 'no', 'no', 'no', 'no', 'no', 'no', 'yes', 'yes', 'no', 'no', 'no', 'no', 'yes', 'no', 'yes', 'yes', 'yes', 'yes', 'no', 'no', 'no', 'no', 'no', 'no', 'no', 'no', 'no', 'no', 'no', 'no', 'no', 'no', 'no', 'no', 'no', 'no', 'yes', 'no', 'no', 'yes', 'no', 'no', 'no', 'no', 'no', 'no', 'no', 'no', 'no', 'no', 'no', 'no', 'no', 'no', 'no', 'no', 'yes', 'no', 'no', 'no', 'yes', 'no', 'no', 'no', 'no', 'no', 'no', 'no', 'no', 'yes', 'yes', 'yes', 'no', 'no', 'no', 'no', 'no', 'no', 'no', 'no', 'no', 'no', 'no', 'yes', 'no', 'no', 'no', 'no', 'no', 'yes', 'no', 'no', 'no', 'no', 'no', 'yes', 'no', 'yes', 'yes', 'no', 'no', 'no', 'no', 'no', 'no', 'no', 'no', 'no', 'no', 'yes', 'no', 'no', 'no', 'no', 'no', 'no', 'no', 'no', 'no', 'yes', 'no', 'no', 'no', 'no', 'no', 'yes', 'no', 'no', 'no', 'no', 'no', 'no', 'no', 'no', 'no', 'no', 'no', 'no', 'yes', 'no', 'yes', 'no', 'no', 'no', 'yes', 'no', 'no', 'no', 'no', 'no', 'no', 'no', 'no', 'yes', 'no', 'no', 'no', 'no', 'no', 'no', 'no', 'no', 'no', 'no', 'yes', 'no', 'no', 'no', 'no', 'no', 'no', 'no', 'yes', 'no', 'no', 'no', 'no', 'no', 'no', 'no', 'no', 'no', 'yes', 'no', 'no', 'no', 'no', 'no', 'yes', 'no', 'no', 'no', 'no', 'no', 'no', 'no', 'no', 'no', 'no', 'yes', 'no', 'no', 'yes', 'no', 'yes', 'no', 'no', 'no', 'no', 'no', 'yes', 'no', 'yes', 'yes', 'no', 'no', 'yes', 'no', 'yes', 'no', 'no', 'no', 'no', 'no', 'yes', 'no', 'no', 'no', 'no', 'no', 'no', 'no', 'no', 'yes', 'no', 'no', 'yes', 'no', 'no', 'no', 'no', 'no', 'no', 'no', 'no', 'no', 'no', 'no', 'no', 'no', 'yes', 'no', 'no', 'no', 'no', 'no', 'no', 'no', 'no', 'yes', 'yes', 'no', 'yes', 'yes', 'no', 'no', 'no', 'no', 'no', 'yes', 'no', 'no', 'yes', 'no', 'no', 'no', 'no', 'yes', 'no', 'no', 'no', 'no', 'no', 'no', 'yes', 'no', 'no', 'no', 'no', 'no', 'no', 'no', 'yes', 'no', 'no', 'no', 'no', 'no', 'no', 'no', 'no', 'yes', 'no', 'no', 'no', 'no', 'no', 'no', 'no', 'no', 'no', 'no', 'no', 'no', 'no', 'no', 'no', 'no', 'no', 'no', 'yes', 'no', 'yes', 'no', 'no', 'yes', 'no', 'no', 'no', 'no', 'no', 'yes', 'no', 'yes', 'yes', 'no', 'yes', 'yes', 'no', 'no', 'no', 'no', 'no', 'no', 'no', 'yes', 'no', 'no', 'no', 'no', 'no', 'no', 'yes', 'no', 'yes', 'no', 'no', 'yes', 'no', 'no', 'no', 'no', 'no', 'no', 'no', 'no', 'no', 'no', 'yes', 'no', 'no', 'no', 'no', 'no', 'no', 'yes', 'no', 'no', 'yes', 'no', 'no', 'no', 'no', 'no', 'no', 'no', 'no', 'no', 'yes', 'no', 'yes', 'no', 'no', 'no', 'yes', 'no', 'no', 'no', 'yes', 'no', 'no', 'no', 'no', 'no', 'no', 'no', 'no', 'no', 'no', 'no', 'no', 'no', 'no', 'yes', 'yes', 'no', 'no', 'no', 'no', 'no', 'no', 'yes', 'yes', 'yes', 'no', 'no', 'no', 'no', 'no', 'no', 'no', 'no', 'no', 'no', 'no', 'no', 'no', 'yes', 'yes', 'no', 'yes', 'no', 'no', 'no', 'no', 'yes', 'no', 'yes', 'no', 'yes', 'no', 'yes', 'yes', 'no', 'no', 'yes', 'no', 'no', 'no', 'no', 'no', 'no', 'no', 'no', 'no', 'no', 'no', 'no', 'no', 'no', 'no', 'no', 'no', 'no', 'no', 'no', 'no', 'no', 'yes', 'no', 'yes', 'yes', 'no', 'no', 'no', 'yes', 'no', 'no', 'yes', 'no', 'no', 'yes', 'no', 'no', 'no', 'no', 'yes', 'no', 'no', 'no', 'no', 'no', 'no', 'no', 'yes', 'no', 'yes', 'no', 'no', 'no', 'no', 'yes', 'yes', 'no', 'no', 'no', 'no', 'no', 'no', 'no', 'no', 'no', 'no', 'no', 'no', 'no', 'no', 'no', 'no', 'no', 'no', 'no', 'no', 'no', 'no', 'no', 'no', 'no', 'no', 'no', 'no', 'no', 'yes', 'no', 'yes', 'no', 'yes', 'no', 'yes', 'yes', 'no', 'yes', 'no', 'yes', 'no', 'no', 'no', 'no', 'no', 'no', 'no', 'yes', 'no', 'no', 'no', 'no', 'no', 'no', 'no', 'no', 'yes', 'no', 'no', 'no', 'no', 'no', 'no', 'yes', 'no', 'no', 'no', 'no', 'no', 'no', 'yes', 'no', 'no', 'no', 'no', 'yes', 'no', 'no', 'no', 'no', 'no', 'yes', 'yes', 'no', 'no', 'no', 'no', 'no', 'yes', 'no', 'no', 'no', 'yes', 'no', 'no', 'no', 'no', 'no', 'no', 'no', 'no', 'no', 'yes', 'yes', 'no', 'no', 'no', 'yes', 'no', 'no', 'no', 'yes', 'yes', 'no', 'yes', 'no', 'no', 'yes', 'yes', 'no', 'no', 'yes', 'no', 'yes', 'no', 'no', 'yes', 'no', 'yes', 'no', 'yes', 'no', 'no', 'no', 'yes', 'no', 'no', 'no', 'no', 'no', 'no', 'no', 'no', 'yes', 'no', 'no', 'no', 'no', 'no', 'no', 'no', 'yes', 'no', 'no', 'no', 'no', 'no', 'no', 'no', 'yes', 'no', 'no', 'no', 'no', 'no', 'no', 'yes', 'no', 'no', 'no', 'no', 'yes', 'no', 'no', 'yes', 'no', 'no', 'yes', 'no', 'no', 'no', 'yes', 'no', 'no', 'no', 'no', 'no', 'no', 'no', 'no', 'no', 'no', 'yes', 'yes', 'no', 'no', 'no', 'no', 'yes', 'yes', 'no', 'yes', 'no', 'yes', 'no', 'yes', 'no', 'no', 'no', 'no', 'no', 'no', 'no', 'no', 'no', 'no', 'no', 'no', 'no', 'no', 'yes', 'no', 'no', 'no', 'no', 'no', 'no', 'yes', 'no', 'no', 'no', 'no', 'no', 'yes', 'no', 'no', 'no', 'yes', 'no', 'no', 'no', 'no', 'no', 'no', 'no', 'no', 'no', 'no', 'no', 'no', 'no', 'yes', 'yes', 'no', 'no', 'no', 'no', 'yes', 'no', 'no', 'yes', 'no', 'no', 'no', 'no', 'yes', 'no', 'yes', 'no', 'yes', 'no', 'no', 'no', 'no', 'no', 'no', 'no', 'yes', 'no', 'no', 'no', 'no', 'no', 'no', 'no', 'yes', 'no', 'no', 'yes', 'yes', 'no', 'no', 'no', 'no', 'no', 'no', 'no', 'no', 'no', 'yes', 'no', 'no', 'no', 'no', 'yes', 'no', 'no', 'no', 'no', 'no', 'no', 'yes', 'yes', 'no', 'no', 'no', 'no', 'no', 'no', 'no', 'no', 'yes', 'yes', 'no', 'no', 'no', 'no', 'no', 'no', 'no', 'yes', 'yes', 'no', 'yes', 'no', 'no', 'no', 'no', 'no', 'no', 'no', 'no', 'no', 'no', 'no', 'no', 'yes', 'no', 'yes', 'no', 'no', 'no', 'no', 'no', 'no', 'yes', 'no', 'no', 'no', 'yes', 'no', 'no', 'yes', 'yes', 'no', 'yes', 'no', 'no', 'no', 'yes', 'no', 'no', 'yes', 'no', 'no', 'no', 'no', 'no', 'no', 'no', 'no', 'yes', 'yes', 'no', 'yes', 'yes', 'no', 'yes', 'yes', 'yes', 'no', 'no', 'no', 'no', 'yes', 'yes', 'no', 'no', 'no', 'no', 'no', 'no', 'yes', 'no', 'yes', 'no', 'no', 'no', 'no', 'no', 'no', 'no', 'no', 'no', 'no', 'no', 'no', 'no', 'yes']\n"
     ]
    }
   ],
   "source": [
    "print(smokers)"
   ]
  },
  {
   "cell_type": "code",
   "execution_count": 9,
   "metadata": {},
   "outputs": [],
   "source": [
    "regions = []\n",
    "with open(\"insurance.csv\", newline = \"\") as region_data:\n",
    "    region_reader = csv.DictReader(region_data, delimiter = \",\")\n",
    "    for row in region_reader:\n",
    "        regions.append(row[\"region\"])"
   ]
  },
  {
   "cell_type": "code",
   "execution_count": 10,
   "metadata": {},
   "outputs": [
    {
     "name": "stdout",
     "output_type": "stream",
     "text": [
      "['southwest', 'southeast', 'southeast', 'northwest', 'northwest', 'southeast', 'southeast', 'northwest', 'northeast', 'northwest', 'northeast', 'southeast', 'southwest', 'southeast', 'southeast', 'southwest', 'northeast', 'northeast', 'southwest', 'southwest', 'northeast', 'southwest', 'southeast', 'northeast', 'northwest', 'southeast', 'northeast', 'northwest', 'northwest', 'southwest', 'southwest', 'northeast', 'southwest', 'northwest', 'southwest', 'northwest', 'northwest', 'southwest', 'northeast', 'southwest', 'northeast', 'southeast', 'southeast', 'southeast', 'northeast', 'southwest', 'northeast', 'northwest', 'southeast', 'southeast', 'northeast', 'northwest', 'southwest', 'southeast', 'northwest', 'northwest', 'northeast', 'southeast', 'southeast', 'northwest', 'northeast', 'southeast', 'northwest', 'northwest', 'northwest', 'southwest', 'southwest', 'northwest', 'southeast', 'southeast', 'southeast', 'northeast', 'southwest', 'southeast', 'southwest', 'northwest', 'southeast', 'southeast', 'northeast', 'northwest', 'northeast', 'northeast', 'southeast', 'northwest', 'southwest', 'northwest', 'northwest', 'southwest', 'northwest', 'northwest', 'southeast', 'northwest', 'northeast', 'northwest', 'southwest', 'southeast', 'southwest', 'southeast', 'northeast', 'southwest', 'southwest', 'northeast', 'northeast', 'southeast', 'southwest', 'northwest', 'southwest', 'northwest', 'southeast', 'southeast', 'northwest', 'southwest', 'southwest', 'northwest', 'northeast', 'northeast', 'southeast', 'southeast', 'southeast', 'northwest', 'southwest', 'northeast', 'northwest', 'northeast', 'northwest', 'northeast', 'southwest', 'southwest', 'northwest', 'southwest', 'northeast', 'northeast', 'southwest', 'northwest', 'northeast', 'southeast', 'southwest', 'northwest', 'southeast', 'southwest', 'northeast', 'northeast', 'southeast', 'northwest', 'northwest', 'southeast', 'northwest', 'southeast', 'northwest', 'southwest', 'northwest', 'southeast', 'northeast', 'northeast', 'northeast', 'northwest', 'southeast', 'northeast', 'southeast', 'southeast', 'northwest', 'southeast', 'southwest', 'southwest', 'northwest', 'northeast', 'southwest', 'northwest', 'northwest', 'northeast', 'southeast', 'southwest', 'northeast', 'southwest', 'northwest', 'southwest', 'northwest', 'southwest', 'southwest', 'northeast', 'northwest', 'southeast', 'northeast', 'northwest', 'southeast', 'northeast', 'southeast', 'southwest', 'southwest', 'northwest', 'southeast', 'southwest', 'southeast', 'northwest', 'southeast', 'northwest', 'southwest', 'southeast', 'northwest', 'northeast', 'northwest', 'southeast', 'northwest', 'southeast', 'southwest', 'northeast', 'southeast', 'northeast', 'southwest', 'northeast', 'southwest', 'northwest', 'northwest', 'southeast', 'southwest', 'southwest', 'northwest', 'southeast', 'southeast', 'southeast', 'southwest', 'northeast', 'southwest', 'southwest', 'southeast', 'southeast', 'southeast', 'southeast', 'northeast', 'northeast', 'northwest', 'southeast', 'southwest', 'southwest', 'northwest', 'southeast', 'southeast', 'southeast', 'northwest', 'southeast', 'northeast', 'northeast', 'southwest', 'southwest', 'northeast', 'northwest', 'southeast', 'southeast', 'southwest', 'northeast', 'northeast', 'southwest', 'southeast', 'southwest', 'northeast', 'northeast', 'northwest', 'southeast', 'northwest', 'northwest', 'southwest', 'southeast', 'northeast', 'northwest', 'southeast', 'southeast', 'southeast', 'northeast', 'southwest', 'northeast', 'southeast', 'southwest', 'northwest', 'northeast', 'northwest', 'northeast', 'northwest', 'southwest', 'southeast', 'southeast', 'northeast', 'northeast', 'northeast', 'northeast', 'southwest', 'southeast', 'northeast', 'northwest', 'northeast', 'southeast', 'southwest', 'northeast', 'southeast', 'southeast', 'southwest', 'northeast', 'southwest', 'southeast', 'northwest', 'northwest', 'northeast', 'northeast', 'southeast', 'southeast', 'southwest', 'northwest', 'southwest', 'southeast', 'northeast', 'northwest', 'southwest', 'southwest', 'southeast', 'southeast', 'southwest', 'northeast', 'northwest', 'northeast', 'northwest', 'northeast', 'northwest', 'northeast', 'southwest', 'northeast', 'southwest', 'northeast', 'southeast', 'northwest', 'southwest', 'southwest', 'northeast', 'northwest', 'northwest', 'northeast', 'northeast', 'southwest', 'southeast', 'northwest', 'northeast', 'southeast', 'southwest', 'northwest', 'northeast', 'northeast', 'southeast', 'southeast', 'southeast', 'northeast', 'southeast', 'northwest', 'northwest', 'southwest', 'southwest', 'northeast', 'southeast', 'southwest', 'southeast', 'northwest', 'southeast', 'southeast', 'northeast', 'southwest', 'southwest', 'southwest', 'southeast', 'northeast', 'northeast', 'northwest', 'northwest', 'northeast', 'northwest', 'northeast', 'northeast', 'southwest', 'southeast', 'northwest', 'northeast', 'southeast', 'northwest', 'southeast', 'northeast', 'northeast', 'southeast', 'southeast', 'northeast', 'southwest', 'southeast', 'northwest', 'northwest', 'northwest', 'northeast', 'northwest', 'northeast', 'northeast', 'northeast', 'northwest', 'southwest', 'southeast', 'southwest', 'southeast', 'southwest', 'southeast', 'northwest', 'northwest', 'southwest', 'northeast', 'southeast', 'southwest', 'southeast', 'southeast', 'northwest', 'northeast', 'northeast', 'southwest', 'northwest', 'southeast', 'southeast', 'southwest', 'southeast', 'northwest', 'southeast', 'southeast', 'northeast', 'northeast', 'southwest', 'southeast', 'northeast', 'northeast', 'northeast', 'northwest', 'southwest', 'northwest', 'southwest', 'southwest', 'northwest', 'southeast', 'northeast', 'southwest', 'southeast', 'northeast', 'northwest', 'southwest', 'southeast', 'southeast', 'northwest', 'southwest', 'northeast', 'northwest', 'southwest', 'southwest', 'southwest', 'northwest', 'southwest', 'northwest', 'southeast', 'southwest', 'southeast', 'northwest', 'southwest', 'southeast', 'southeast', 'southwest', 'northeast', 'northeast', 'northwest', 'southeast', 'southwest', 'northwest', 'northeast', 'southeast', 'southeast', 'northeast', 'southwest', 'northeast', 'southwest', 'northwest', 'northeast', 'northwest', 'southeast', 'southeast', 'northwest', 'southeast', 'southeast', 'southwest', 'southwest', 'northeast', 'northwest', 'southwest', 'southeast', 'northwest', 'southwest', 'southeast', 'northeast', 'southwest', 'southwest', 'northeast', 'southwest', 'southwest', 'southeast', 'southwest', 'southwest', 'northeast', 'southeast', 'southeast', 'southeast', 'northwest', 'northwest', 'northwest', 'northeast', 'southwest', 'northeast', 'southeast', 'northeast', 'southwest', 'southwest', 'southwest', 'southeast', 'northwest', 'southwest', 'northeast', 'northeast', 'southeast', 'northeast', 'southeast', 'southeast', 'southeast', 'northwest', 'southwest', 'northeast', 'northeast', 'southeast', 'northeast', 'southeast', 'southeast', 'southeast', 'northeast', 'southwest', 'southwest', 'southeast', 'southeast', 'southwest', 'southeast', 'southeast', 'southeast', 'northwest', 'northwest', 'northeast', 'southwest', 'northeast', 'southeast', 'southwest', 'southeast', 'southwest', 'northwest', 'northeast', 'southwest', 'northeast', 'southeast', 'northwest', 'northwest', 'northwest', 'northeast', 'southwest', 'southeast', 'southeast', 'northwest', 'northwest', 'northwest', 'southwest', 'northwest', 'southwest', 'southeast', 'southeast', 'northeast', 'northeast', 'northwest', 'southeast', 'northeast', 'southwest', 'northeast', 'northeast', 'northwest', 'southeast', 'southeast', 'southwest', 'southeast', 'northeast', 'northwest', 'northeast', 'southeast', 'southwest', 'northwest', 'southeast', 'northeast', 'southeast', 'northeast', 'southeast', 'northeast', 'southwest', 'northwest', 'southeast', 'northwest', 'southwest', 'southeast', 'northwest', 'southeast', 'northeast', 'northwest', 'northeast', 'southwest', 'southeast', 'southwest', 'northeast', 'northeast', 'southeast', 'southeast', 'northeast', 'southwest', 'southeast', 'southwest', 'southwest', 'southwest', 'southwest', 'northeast', 'northwest', 'northwest', 'northeast', 'southeast', 'southwest', 'northwest', 'southwest', 'southwest', 'southeast', 'northeast', 'southwest', 'northeast', 'northwest', 'northeast', 'northeast', 'southeast', 'southwest', 'northwest', 'northeast', 'northwest', 'southeast', 'northeast', 'northwest', 'northeast', 'northeast', 'northeast', 'southeast', 'southeast', 'southeast', 'southeast', 'southeast', 'southeast', 'southwest', 'northwest', 'northeast', 'northeast', 'southeast', 'southeast', 'northeast', 'southeast', 'southeast', 'southeast', 'southwest', 'northwest', 'northeast', 'southeast', 'southeast', 'northeast', 'southeast', 'southeast', 'southeast', 'northwest', 'southeast', 'northwest', 'southwest', 'northwest', 'southwest', 'southwest', 'southwest', 'northwest', 'southwest', 'northeast', 'northeast', 'southeast', 'southwest', 'southeast', 'northeast', 'southwest', 'northwest', 'northwest', 'southwest', 'northwest', 'northeast', 'southeast', 'northwest', 'southeast', 'southeast', 'northeast', 'southeast', 'northwest', 'northwest', 'southwest', 'southeast', 'northwest', 'northeast', 'northeast', 'southeast', 'southeast', 'northwest', 'northeast', 'southwest', 'southwest', 'northwest', 'northwest', 'northwest', 'northwest', 'northeast', 'southwest', 'southwest', 'southwest', 'northeast', 'southeast', 'northwest', 'northeast', 'northeast', 'southeast', 'southeast', 'southwest', 'southwest', 'northeast', 'southwest', 'northwest', 'southeast', 'southwest', 'northeast', 'southwest', 'northeast', 'southeast', 'northeast', 'southeast', 'northwest', 'northwest', 'southwest', 'northwest', 'southwest', 'northwest', 'southeast', 'northwest', 'northwest', 'southeast', 'northeast', 'northeast', 'northeast', 'southeast', 'northeast', 'southeast', 'northeast', 'southwest', 'southwest', 'northeast', 'northeast', 'northwest', 'southwest', 'southwest', 'southwest', 'northwest', 'southwest', 'southwest', 'northeast', 'northwest', 'northwest', 'southeast', 'northwest', 'northeast', 'southeast', 'northwest', 'southwest', 'southeast', 'southeast', 'southwest', 'southeast', 'southwest', 'northeast', 'northwest', 'northeast', 'southeast', 'southeast', 'southwest', 'northeast', 'southeast', 'northwest', 'northwest', 'southeast', 'northeast', 'southwest', 'northeast', 'southeast', 'southeast', 'southwest', 'southeast', 'southeast', 'northwest', 'northwest', 'northwest', 'southeast', 'northeast', 'southwest', 'northwest', 'southeast', 'northeast', 'southeast', 'southeast', 'northwest', 'southwest', 'northeast', 'northwest', 'southwest', 'northwest', 'southeast', 'southeast', 'northwest', 'northeast', 'southeast', 'northeast', 'northeast', 'northwest', 'southwest', 'northwest', 'northwest', 'northwest', 'northwest', 'southeast', 'southwest', 'northeast', 'northeast', 'northwest', 'southwest', 'northeast', 'southeast', 'southeast', 'northeast', 'southeast', 'southwest', 'southeast', 'southwest', 'northwest', 'northeast', 'northwest', 'northeast', 'northeast', 'northeast', 'southwest', 'southeast', 'northwest', 'southeast', 'southwest', 'southwest', 'southwest', 'northwest', 'northeast', 'southwest', 'southwest', 'southeast', 'southwest', 'northeast', 'southwest', 'southwest', 'southeast', 'southeast', 'southwest', 'northeast', 'northwest', 'southwest', 'southeast', 'southwest', 'southwest', 'southwest', 'northwest', 'northeast', 'northeast', 'northwest', 'southeast', 'northeast', 'northwest', 'southwest', 'northwest', 'northwest', 'southeast', 'northeast', 'southeast', 'northeast', 'southwest', 'northeast', 'northwest', 'southeast', 'northwest', 'northeast', 'southeast', 'northeast', 'southeast', 'southwest', 'northeast', 'northeast', 'southeast', 'southwest', 'southwest', 'northwest', 'northeast', 'northwest', 'southwest', 'northwest', 'southeast', 'northwest', 'northeast', 'southwest', 'southeast', 'southwest', 'southwest', 'southwest', 'northwest', 'southwest', 'northeast', 'southwest', 'southwest', 'southeast', 'southeast', 'southeast', 'southwest', 'southwest', 'southwest', 'southeast', 'southwest', 'northeast', 'northwest', 'southeast', 'southeast', 'southeast', 'southeast', 'northeast', 'northwest', 'southeast', 'southwest', 'southwest', 'northeast', 'northwest', 'southwest', 'northeast', 'southeast', 'northwest', 'southwest', 'northwest', 'southeast', 'southeast', 'northwest', 'northeast', 'northwest', 'northwest', 'southwest', 'southeast', 'northeast', 'northwest', 'southwest', 'northwest', 'northwest', 'northeast', 'southeast', 'southeast', 'northeast', 'northwest', 'southwest', 'southeast', 'northeast', 'southeast', 'southeast', 'northeast', 'southeast', 'northeast', 'northeast', 'southwest', 'northeast', 'northeast', 'southwest', 'northwest', 'northwest', 'northeast', 'northeast', 'southwest', 'northeast', 'southwest', 'southeast', 'northwest', 'northeast', 'southwest', 'southeast', 'northeast', 'northwest', 'northwest', 'southwest', 'southwest', 'southwest', 'northeast', 'northwest', 'northeast', 'northwest', 'northeast', 'northeast', 'southwest', 'southeast', 'southeast', 'northwest', 'southwest', 'northwest', 'northwest', 'southwest', 'northwest', 'northwest', 'southwest', 'southeast', 'southeast', 'southeast', 'southeast', 'southwest', 'northwest', 'northwest', 'southwest', 'northeast', 'northwest', 'southeast', 'northeast', 'northeast', 'northwest', 'southwest', 'southeast', 'northwest', 'northeast', 'northwest', 'northwest', 'northeast', 'northeast', 'southwest', 'northeast', 'northwest', 'northeast', 'southeast', 'northwest', 'southwest', 'northwest', 'northeast', 'northeast', 'southwest', 'northwest', 'northwest', 'southwest', 'southeast', 'southeast', 'northwest', 'southeast', 'southeast', 'southeast', 'northwest', 'southwest', 'southwest', 'southeast', 'northeast', 'northwest', 'southeast', 'southeast', 'northeast', 'northwest', 'northeast', 'northeast', 'southeast', 'southwest', 'northeast', 'southeast', 'southeast', 'southeast', 'northwest', 'northwest', 'southwest', 'northwest', 'southwest', 'northeast', 'northwest', 'southeast', 'southwest', 'southeast', 'northeast', 'southwest', 'northwest', 'southwest', 'northeast', 'northeast', 'southeast', 'northeast', 'southeast', 'northeast', 'southwest', 'southeast', 'southeast', 'southwest', 'southeast', 'northwest', 'northwest', 'southwest', 'southeast', 'northeast', 'southeast', 'southeast', 'northwest', 'northeast', 'southeast', 'northeast', 'southeast', 'southeast', 'northwest', 'southwest', 'southeast', 'northwest', 'northeast', 'northeast', 'northwest', 'southwest', 'southeast', 'southwest', 'southwest', 'southeast', 'southwest', 'northeast', 'northwest', 'northwest', 'northwest', 'southwest', 'northwest', 'southeast', 'northwest', 'southeast', 'southwest', 'southeast', 'southeast', 'southwest', 'northwest', 'southwest', 'northwest', 'southwest', 'southwest', 'northeast', 'northwest', 'southeast', 'northwest', 'northwest', 'northeast', 'southeast', 'northwest', 'northeast', 'southwest', 'northwest', 'southeast', 'southeast', 'northeast', 'northwest', 'northeast', 'southeast', 'southwest', 'southwest', 'northwest', 'northeast', 'southwest', 'southeast', 'northwest', 'northwest', 'southwest', 'northwest', 'southwest', 'northeast', 'southeast', 'northeast', 'northwest', 'southwest', 'northeast', 'southeast', 'northeast', 'northwest', 'northwest', 'northeast', 'southwest', 'northwest', 'northeast', 'northeast', 'northwest', 'northwest', 'northwest', 'northwest', 'southeast', 'northwest', 'southwest', 'northwest', 'northwest', 'northwest', 'northeast', 'southeast', 'northwest', 'southwest', 'southwest', 'northeast', 'southwest', 'northwest', 'southeast', 'northeast', 'southwest', 'northwest', 'northeast', 'southeast', 'southeast', 'southwest', 'northwest', 'northeast', 'southeast', 'southeast', 'southeast', 'northeast', 'southeast', 'northeast', 'southeast', 'southeast', 'northeast', 'northwest', 'southwest', 'northwest', 'southwest', 'southeast', 'northwest', 'northeast', 'northwest', 'northeast', 'southeast', 'southeast', 'southeast', 'northwest', 'southeast', 'southeast', 'southwest', 'southwest', 'southwest', 'southeast', 'northeast', 'northeast', 'southwest', 'southwest', 'southwest', 'southeast', 'southwest', 'northwest', 'northwest', 'northwest', 'northeast', 'northeast', 'southwest', 'southeast', 'southwest', 'northeast', 'southeast', 'southwest', 'northeast', 'southwest', 'southwest', 'northwest', 'northwest', 'southeast', 'southeast', 'southeast', 'southwest', 'northeast', 'northwest', 'northeast', 'northwest', 'southeast', 'northwest', 'northeast', 'southeast', 'southwest', 'northeast', 'northeast', 'southwest', 'southwest', 'southeast', 'northeast', 'southwest', 'southeast', 'northwest', 'northeast', 'southwest', 'northeast', 'southeast', 'northwest', 'northwest', 'southeast', 'northwest', 'southwest', 'southwest', 'northeast', 'southeast', 'northeast', 'northwest', 'southwest', 'southwest', 'northwest', 'northwest', 'southwest', 'southwest', 'northwest', 'northeast', 'southwest', 'southeast', 'northeast', 'northwest', 'northwest', 'northeast', 'southeast', 'southeast', 'northwest', 'northeast', 'northeast', 'southeast', 'northeast', 'southwest', 'southeast', 'southwest', 'southwest', 'northwest', 'northeast', 'southeast', 'southwest', 'northwest']\n"
     ]
    }
   ],
   "source": [
    "print(regions)"
   ]
  },
  {
   "cell_type": "code",
   "execution_count": 11,
   "metadata": {},
   "outputs": [],
   "source": [
    "one_list = zip(ages, smokers, regions)\n",
    "ages_smokers_regions = list(one_list)"
   ]
  },
  {
   "cell_type": "code",
   "execution_count": 12,
   "metadata": {},
   "outputs": [
    {
     "name": "stdout",
     "output_type": "stream",
     "text": [
      "[(19, 'yes', 'southwest'), (18, 'no', 'southeast'), (28, 'no', 'southeast'), (33, 'no', 'northwest'), (32, 'no', 'northwest'), (31, 'no', 'southeast'), (46, 'no', 'southeast'), (37, 'no', 'northwest'), (37, 'no', 'northeast'), (60, 'no', 'northwest'), (25, 'no', 'northeast'), (62, 'yes', 'southeast'), (23, 'no', 'southwest'), (56, 'no', 'southeast'), (27, 'yes', 'southeast'), (19, 'no', 'southwest'), (52, 'no', 'northeast'), (23, 'no', 'northeast'), (56, 'no', 'southwest'), (30, 'yes', 'southwest'), (60, 'no', 'northeast'), (30, 'no', 'southwest'), (18, 'no', 'southeast'), (34, 'yes', 'northeast'), (37, 'no', 'northwest'), (59, 'no', 'southeast'), (63, 'no', 'northeast'), (55, 'no', 'northwest'), (23, 'no', 'northwest'), (31, 'yes', 'southwest'), (22, 'yes', 'southwest'), (18, 'no', 'northeast'), (19, 'no', 'southwest'), (63, 'no', 'northwest'), (28, 'yes', 'southwest'), (19, 'no', 'northwest'), (62, 'no', 'northwest'), (26, 'no', 'southwest'), (35, 'yes', 'northeast'), (60, 'yes', 'southwest'), (24, 'no', 'northeast'), (31, 'no', 'southeast'), (41, 'no', 'southeast'), (37, 'no', 'southeast'), (38, 'no', 'northeast'), (55, 'no', 'southwest'), (18, 'no', 'northeast'), (28, 'no', 'northwest'), (60, 'no', 'southeast'), (36, 'yes', 'southeast'), (18, 'no', 'northeast'), (21, 'no', 'northwest'), (48, 'yes', 'southwest'), (36, 'yes', 'southeast'), (40, 'no', 'northwest'), (58, 'yes', 'northwest'), (58, 'no', 'northeast'), (18, 'yes', 'southeast'), (53, 'yes', 'southeast'), (34, 'no', 'northwest'), (43, 'no', 'northeast'), (25, 'no', 'southeast'), (64, 'no', 'northwest'), (28, 'no', 'northwest'), (20, 'yes', 'northwest'), (19, 'no', 'southwest'), (61, 'no', 'southwest'), (40, 'no', 'northwest'), (40, 'no', 'southeast'), (28, 'yes', 'southeast'), (27, 'yes', 'southeast'), (31, 'no', 'northeast'), (53, 'no', 'southwest'), (58, 'no', 'southeast'), (44, 'no', 'southwest'), (57, 'no', 'northwest'), (29, 'no', 'southeast'), (21, 'no', 'southeast'), (22, 'no', 'northeast'), (41, 'no', 'northwest'), (31, 'no', 'northeast'), (45, 'no', 'northeast'), (22, 'yes', 'southeast'), (48, 'no', 'northwest'), (37, 'yes', 'southwest'), (45, 'yes', 'northwest'), (57, 'yes', 'northwest'), (56, 'no', 'southwest'), (46, 'no', 'northwest'), (55, 'no', 'northwest'), (21, 'no', 'southeast'), (53, 'no', 'northwest'), (59, 'yes', 'northeast'), (35, 'no', 'northwest'), (64, 'yes', 'southwest'), (28, 'no', 'southeast'), (54, 'no', 'southwest'), (55, 'no', 'southeast'), (56, 'yes', 'northeast'), (38, 'yes', 'southwest'), (41, 'no', 'southwest'), (30, 'no', 'northeast'), (18, 'no', 'northeast'), (61, 'yes', 'southeast'), (34, 'no', 'southwest'), (20, 'yes', 'northwest'), (19, 'no', 'southwest'), (26, 'no', 'northwest'), (29, 'no', 'southeast'), (63, 'yes', 'southeast'), (54, 'no', 'northwest'), (55, 'no', 'southwest'), (37, 'no', 'southwest'), (21, 'no', 'northwest'), (52, 'no', 'northeast'), (60, 'no', 'northeast'), (58, 'no', 'southeast'), (29, 'yes', 'southeast'), (49, 'no', 'southeast'), (37, 'no', 'northwest'), (44, 'no', 'southwest'), (18, 'no', 'northeast'), (20, 'no', 'northwest'), (44, 'yes', 'northeast'), (47, 'no', 'northwest'), (26, 'no', 'northeast'), (19, 'yes', 'southwest'), (52, 'no', 'southwest'), (32, 'yes', 'northwest'), (38, 'no', 'southwest'), (59, 'no', 'northeast'), (61, 'no', 'northeast'), (53, 'no', 'southwest'), (19, 'no', 'northwest'), (20, 'no', 'northeast'), (22, 'no', 'southeast'), (19, 'no', 'southwest'), (22, 'no', 'northwest'), (54, 'no', 'southeast'), (22, 'no', 'southwest'), (34, 'no', 'northeast'), (26, 'no', 'northeast'), (34, 'yes', 'southeast'), (29, 'no', 'northwest'), (30, 'yes', 'northwest'), (29, 'no', 'southeast'), (46, 'yes', 'northwest'), (51, 'no', 'southeast'), (53, 'no', 'northwest'), (19, 'no', 'southwest'), (35, 'no', 'northwest'), (48, 'no', 'southeast'), (32, 'no', 'northeast'), (42, 'yes', 'northeast'), (40, 'no', 'northeast'), (44, 'no', 'northwest'), (48, 'yes', 'southeast'), (18, 'yes', 'northeast'), (30, 'yes', 'southeast'), (50, 'no', 'southeast'), (42, 'yes', 'northwest'), (18, 'yes', 'southeast'), (54, 'no', 'southwest'), (32, 'no', 'southwest'), (37, 'no', 'northwest'), (47, 'no', 'northeast'), (20, 'no', 'southwest'), (32, 'no', 'northwest'), (19, 'no', 'northwest'), (27, 'no', 'northeast'), (63, 'no', 'southeast'), (49, 'no', 'southwest'), (18, 'no', 'northeast'), (35, 'no', 'southwest'), (24, 'no', 'northwest'), (63, 'yes', 'southwest'), (38, 'no', 'northwest'), (54, 'no', 'southwest'), (46, 'no', 'southwest'), (41, 'no', 'northeast'), (58, 'no', 'northwest'), (18, 'no', 'southeast'), (22, 'no', 'northeast'), (44, 'no', 'northwest'), (44, 'no', 'southeast'), (36, 'yes', 'northeast'), (26, 'no', 'southeast'), (30, 'no', 'southwest'), (41, 'no', 'southwest'), (29, 'no', 'northwest'), (61, 'no', 'southeast'), (36, 'no', 'southwest'), (25, 'no', 'southeast'), (56, 'no', 'northwest'), (18, 'no', 'southeast'), (19, 'no', 'northwest'), (39, 'no', 'southwest'), (45, 'no', 'southeast'), (51, 'no', 'northwest'), (64, 'no', 'northeast'), (19, 'no', 'northwest'), (48, 'no', 'southeast'), (60, 'no', 'northwest'), (27, 'yes', 'southeast'), (46, 'no', 'southwest'), (28, 'no', 'northeast'), (59, 'no', 'southeast'), (35, 'yes', 'northeast'), (63, 'no', 'southwest'), (40, 'no', 'northeast'), (20, 'no', 'southwest'), (40, 'no', 'northwest'), (24, 'no', 'northwest'), (34, 'no', 'southeast'), (45, 'no', 'southwest'), (41, 'no', 'southwest'), (53, 'no', 'northwest'), (27, 'no', 'southeast'), (26, 'no', 'southeast'), (24, 'no', 'southeast'), (34, 'no', 'southwest'), (53, 'no', 'northeast'), (32, 'no', 'southwest'), (19, 'yes', 'southwest'), (42, 'yes', 'southeast'), (55, 'no', 'southeast'), (28, 'no', 'southeast'), (58, 'no', 'southeast'), (41, 'no', 'northeast'), (47, 'no', 'northeast'), (42, 'no', 'northwest'), (59, 'no', 'southeast'), (19, 'no', 'southwest'), (59, 'no', 'southwest'), (39, 'no', 'northwest'), (40, 'yes', 'southeast'), (18, 'no', 'southeast'), (31, 'no', 'southeast'), (19, 'yes', 'northwest'), (44, 'no', 'southeast'), (23, 'yes', 'northeast'), (33, 'no', 'northeast'), (55, 'no', 'southwest'), (40, 'no', 'southwest'), (63, 'yes', 'northeast'), (54, 'no', 'northwest'), (60, 'no', 'southeast'), (24, 'no', 'southeast'), (19, 'no', 'southwest'), (29, 'no', 'northeast'), (18, 'yes', 'northeast'), (63, 'yes', 'southwest'), (54, 'yes', 'southeast'), (27, 'no', 'southwest'), (50, 'yes', 'northeast'), (55, 'no', 'northeast'), (56, 'yes', 'northwest'), (38, 'no', 'southeast'), (51, 'no', 'northwest'), (19, 'yes', 'northwest'), (58, 'no', 'southwest'), (20, 'yes', 'southeast'), (52, 'yes', 'northeast'), (19, 'yes', 'northwest'), (53, 'no', 'southeast'), (46, 'yes', 'southeast'), (40, 'yes', 'southeast'), (59, 'no', 'northeast'), (45, 'no', 'southwest'), (49, 'no', 'northeast'), (18, 'no', 'southeast'), (50, 'yes', 'southwest'), (41, 'no', 'northwest'), (50, 'no', 'northeast'), (25, 'no', 'northwest'), (47, 'no', 'northeast'), (19, 'no', 'northwest'), (22, 'no', 'southwest'), (59, 'no', 'southeast'), (51, 'no', 'southeast'), (40, 'yes', 'northeast'), (54, 'yes', 'northeast'), (30, 'no', 'northeast'), (55, 'no', 'northeast'), (52, 'no', 'southwest'), (46, 'no', 'southeast'), (46, 'no', 'northeast'), (63, 'no', 'northwest'), (59, 'yes', 'northeast'), (52, 'no', 'southeast'), (28, 'no', 'southwest'), (29, 'no', 'northeast'), (25, 'yes', 'southeast'), (22, 'no', 'southeast'), (25, 'no', 'southwest'), (18, 'no', 'northeast'), (19, 'yes', 'southwest'), (47, 'yes', 'southeast'), (31, 'yes', 'northwest'), (48, 'no', 'northwest'), (36, 'no', 'northeast'), (53, 'yes', 'northeast'), (56, 'no', 'southeast'), (28, 'no', 'southeast'), (57, 'no', 'southwest'), (29, 'no', 'northwest'), (28, 'no', 'southwest'), (30, 'no', 'southeast'), (58, 'no', 'northeast'), (41, 'no', 'northwest'), (50, 'no', 'southwest'), (19, 'no', 'southwest'), (43, 'yes', 'southeast'), (49, 'no', 'southeast'), (27, 'yes', 'southwest'), (52, 'no', 'northeast'), (50, 'no', 'northwest'), (54, 'no', 'northeast'), (44, 'no', 'northwest'), (32, 'no', 'northeast'), (34, 'no', 'northwest'), (26, 'no', 'northeast'), (34, 'yes', 'southwest'), (57, 'no', 'northeast'), (29, 'no', 'southwest'), (40, 'no', 'northeast'), (27, 'no', 'southeast'), (45, 'yes', 'northwest'), (64, 'yes', 'southwest'), (52, 'no', 'southwest'), (61, 'yes', 'northeast'), (52, 'yes', 'northwest'), (61, 'no', 'northwest'), (56, 'no', 'northeast'), (43, 'no', 'northeast'), (64, 'no', 'southwest'), (60, 'no', 'southeast'), (62, 'no', 'northwest'), (50, 'yes', 'northeast'), (46, 'no', 'southeast'), (24, 'no', 'southwest'), (62, 'no', 'northwest'), (60, 'no', 'northeast'), (63, 'no', 'northeast'), (49, 'no', 'southeast'), (34, 'no', 'southeast'), (33, 'no', 'southeast'), (46, 'no', 'northeast'), (36, 'no', 'southeast'), (19, 'no', 'northwest'), (57, 'no', 'northwest'), (50, 'no', 'southwest'), (30, 'no', 'southwest'), (33, 'no', 'northeast'), (18, 'no', 'southeast'), (46, 'no', 'southwest'), (46, 'no', 'southeast'), (47, 'no', 'northwest'), (23, 'no', 'southeast'), (18, 'no', 'southeast'), (48, 'no', 'northeast'), (35, 'no', 'southwest'), (19, 'yes', 'southwest'), (21, 'no', 'southwest'), (21, 'no', 'southeast'), (49, 'no', 'northeast'), (56, 'no', 'northeast'), (42, 'no', 'northwest'), (44, 'no', 'northwest'), (18, 'no', 'northeast'), (61, 'no', 'northwest'), (57, 'no', 'northeast'), (42, 'no', 'northeast'), (26, 'yes', 'southwest'), (20, 'no', 'southeast'), (23, 'yes', 'northwest'), (39, 'yes', 'northeast'), (24, 'yes', 'southeast'), (64, 'no', 'northwest'), (62, 'no', 'southeast'), (27, 'yes', 'northeast'), (55, 'yes', 'northeast'), (55, 'no', 'southeast'), (35, 'no', 'southeast'), (44, 'no', 'northeast'), (19, 'no', 'southwest'), (58, 'no', 'southeast'), (50, 'no', 'northwest'), (26, 'no', 'northwest'), (24, 'no', 'northwest'), (48, 'no', 'northeast'), (19, 'no', 'northwest'), (48, 'no', 'northeast'), (49, 'no', 'northeast'), (46, 'no', 'northeast'), (46, 'no', 'northwest'), (43, 'no', 'southwest'), (21, 'no', 'southeast'), (64, 'no', 'southwest'), (18, 'no', 'southeast'), (51, 'no', 'southwest'), (47, 'no', 'southeast'), (64, 'no', 'northwest'), (49, 'no', 'northwest'), (31, 'no', 'southwest'), (52, 'no', 'northeast'), (33, 'no', 'southeast'), (47, 'no', 'southwest'), (38, 'no', 'southeast'), (32, 'no', 'southeast'), (19, 'no', 'northwest'), (44, 'yes', 'northeast'), (26, 'yes', 'northeast'), (25, 'no', 'southwest'), (19, 'no', 'northwest'), (43, 'no', 'southeast'), (52, 'no', 'southeast'), (36, 'yes', 'southwest'), (64, 'no', 'southeast'), (63, 'yes', 'northwest'), (64, 'yes', 'southeast'), (61, 'yes', 'southeast'), (40, 'yes', 'northeast'), (25, 'no', 'northeast'), (48, 'no', 'southwest'), (45, 'no', 'southeast'), (38, 'no', 'northeast'), (18, 'no', 'northeast'), (21, 'no', 'northeast'), (27, 'no', 'northwest'), (19, 'no', 'southwest'), (29, 'no', 'northwest'), (42, 'no', 'southwest'), (60, 'no', 'southwest'), (31, 'no', 'northwest'), (60, 'no', 'southeast'), (22, 'no', 'northeast'), (35, 'no', 'southwest'), (52, 'no', 'southeast'), (26, 'no', 'northeast'), (31, 'no', 'northwest'), (33, 'yes', 'southwest'), (18, 'no', 'southeast'), (59, 'no', 'southeast'), (56, 'yes', 'northwest'), (45, 'no', 'southwest'), (60, 'no', 'northeast'), (56, 'no', 'northwest'), (40, 'no', 'southwest'), (35, 'no', 'southwest'), (39, 'no', 'southwest'), (30, 'no', 'northwest'), (24, 'no', 'southwest'), (20, 'no', 'northwest'), (32, 'no', 'southeast'), (59, 'no', 'southwest'), (55, 'no', 'southeast'), (57, 'no', 'northwest'), (56, 'no', 'southwest'), (40, 'no', 'southeast'), (49, 'no', 'southeast'), (42, 'yes', 'southwest'), (62, 'no', 'northeast'), (56, 'no', 'northeast'), (19, 'no', 'northwest'), (30, 'yes', 'southeast'), (60, 'no', 'southwest'), (56, 'no', 'northwest'), (28, 'no', 'northeast'), (18, 'no', 'southeast'), (27, 'no', 'southeast'), (18, 'no', 'northeast'), (19, 'no', 'southwest'), (47, 'no', 'northeast'), (54, 'yes', 'southwest'), (61, 'yes', 'northwest'), (24, 'yes', 'northeast'), (25, 'no', 'northwest'), (21, 'no', 'southeast'), (23, 'no', 'southeast'), (63, 'no', 'northwest'), (49, 'no', 'southeast'), (18, 'no', 'southeast'), (51, 'no', 'southwest'), (48, 'no', 'southwest'), (31, 'no', 'northeast'), (54, 'no', 'northwest'), (19, 'no', 'southwest'), (44, 'yes', 'southeast'), (53, 'no', 'northwest'), (19, 'no', 'southwest'), (61, 'no', 'southeast'), (18, 'no', 'northeast'), (61, 'no', 'southwest'), (21, 'yes', 'southwest'), (20, 'no', 'northeast'), (31, 'no', 'southwest'), (45, 'no', 'southwest'), (44, 'no', 'southeast'), (62, 'no', 'southwest'), (29, 'yes', 'southwest'), (43, 'no', 'northeast'), (51, 'yes', 'southeast'), (19, 'yes', 'southeast'), (38, 'no', 'southeast'), (37, 'no', 'northwest'), (22, 'no', 'northwest'), (21, 'no', 'northwest'), (24, 'no', 'northeast'), (57, 'no', 'southwest'), (56, 'no', 'northeast'), (27, 'no', 'southeast'), (51, 'no', 'northeast'), (19, 'no', 'southwest'), (39, 'yes', 'southwest'), (58, 'no', 'southwest'), (20, 'no', 'southeast'), (45, 'no', 'northwest'), (35, 'no', 'southwest'), (31, 'no', 'northeast'), (50, 'no', 'northeast'), (32, 'no', 'southeast'), (51, 'no', 'northeast'), (38, 'no', 'southeast'), (42, 'yes', 'southeast'), (18, 'no', 'southeast'), (19, 'no', 'northwest'), (51, 'no', 'southwest'), (46, 'no', 'northeast'), (18, 'no', 'northeast'), (57, 'yes', 'southeast'), (62, 'no', 'northeast'), (59, 'no', 'southeast'), (37, 'no', 'southeast'), (64, 'no', 'southeast'), (38, 'no', 'northeast'), (33, 'no', 'southwest'), (46, 'no', 'southwest'), (46, 'no', 'southeast'), (53, 'no', 'southeast'), (34, 'no', 'southwest'), (20, 'no', 'southeast'), (63, 'no', 'southeast'), (54, 'yes', 'southeast'), (54, 'no', 'northwest'), (49, 'yes', 'northwest'), (28, 'no', 'northeast'), (54, 'no', 'southwest'), (25, 'no', 'northeast'), (43, 'yes', 'southeast'), (63, 'no', 'southwest'), (32, 'no', 'southeast'), (62, 'no', 'southwest'), (52, 'no', 'northwest'), (25, 'no', 'northeast'), (28, 'no', 'southwest'), (46, 'no', 'northeast'), (34, 'no', 'southeast'), (35, 'yes', 'northwest'), (19, 'no', 'northwest'), (46, 'no', 'northwest'), (54, 'no', 'northeast'), (27, 'no', 'southwest'), (50, 'no', 'southeast'), (18, 'no', 'southeast'), (19, 'no', 'northwest'), (38, 'no', 'northwest'), (41, 'no', 'northwest'), (49, 'no', 'southwest'), (48, 'yes', 'northwest'), (31, 'no', 'southwest'), (18, 'no', 'southeast'), (30, 'no', 'southeast'), (62, 'no', 'northeast'), (57, 'no', 'northeast'), (58, 'no', 'northwest'), (22, 'no', 'southeast'), (31, 'yes', 'northeast'), (52, 'no', 'southwest'), (25, 'no', 'northeast'), (59, 'no', 'northeast'), (19, 'no', 'northwest'), (39, 'no', 'southeast'), (32, 'no', 'southeast'), (19, 'no', 'southwest'), (33, 'no', 'southeast'), (21, 'no', 'northeast'), (34, 'yes', 'northwest'), (61, 'no', 'northeast'), (38, 'no', 'southeast'), (58, 'no', 'southwest'), (47, 'no', 'northwest'), (20, 'no', 'southeast'), (21, 'yes', 'northeast'), (41, 'no', 'southeast'), (46, 'no', 'northeast'), (42, 'no', 'southeast'), (34, 'no', 'northeast'), (43, 'no', 'southwest'), (52, 'no', 'northwest'), (18, 'no', 'southeast'), (51, 'no', 'northwest'), (56, 'no', 'southwest'), (64, 'no', 'southeast'), (19, 'yes', 'northwest'), (51, 'no', 'southeast'), (27, 'no', 'northeast'), (59, 'yes', 'northwest'), (28, 'no', 'northeast'), (30, 'yes', 'southwest'), (47, 'no', 'southeast'), (38, 'no', 'southwest'), (18, 'no', 'northeast'), (34, 'no', 'northeast'), (20, 'no', 'southeast'), (47, 'yes', 'southeast'), (56, 'no', 'northeast'), (49, 'yes', 'southwest'), (19, 'yes', 'southeast'), (55, 'no', 'southwest'), (30, 'no', 'southwest'), (37, 'yes', 'southwest'), (49, 'no', 'southwest'), (18, 'yes', 'northeast'), (59, 'no', 'northwest'), (29, 'no', 'northwest'), (36, 'no', 'northeast'), (33, 'no', 'southeast'), (58, 'no', 'southwest'), (44, 'yes', 'northwest'), (53, 'no', 'southwest'), (24, 'no', 'southwest'), (29, 'no', 'southeast'), (40, 'no', 'northeast'), (51, 'no', 'southwest'), (64, 'no', 'northeast'), (19, 'no', 'northwest'), (35, 'no', 'northeast'), (39, 'yes', 'northeast'), (56, 'no', 'southeast'), (33, 'no', 'southwest'), (42, 'yes', 'northwest'), (61, 'no', 'northeast'), (23, 'no', 'northwest'), (43, 'no', 'southeast'), (48, 'no', 'northeast'), (39, 'no', 'northwest'), (40, 'no', 'northeast'), (18, 'no', 'northeast'), (58, 'no', 'northeast'), (49, 'no', 'southeast'), (53, 'no', 'southeast'), (48, 'no', 'southeast'), (45, 'no', 'southeast'), (59, 'no', 'southeast'), (52, 'yes', 'southeast'), (26, 'no', 'southwest'), (27, 'no', 'northwest'), (48, 'no', 'northeast'), (57, 'no', 'northeast'), (37, 'no', 'southeast'), (57, 'no', 'southeast'), (32, 'no', 'northeast'), (18, 'no', 'southeast'), (64, 'yes', 'southeast'), (43, 'yes', 'southeast'), (49, 'no', 'southwest'), (40, 'yes', 'northwest'), (62, 'yes', 'northeast'), (40, 'no', 'southeast'), (30, 'no', 'southeast'), (29, 'no', 'northeast'), (36, 'no', 'southeast'), (41, 'no', 'southeast'), (44, 'yes', 'southeast'), (45, 'no', 'northwest'), (55, 'no', 'southeast'), (60, 'yes', 'northwest'), (56, 'no', 'southwest'), (49, 'no', 'northwest'), (21, 'no', 'southwest'), (19, 'no', 'southwest'), (39, 'yes', 'southwest'), (53, 'no', 'northwest'), (33, 'no', 'southwest'), (53, 'no', 'northeast'), (42, 'no', 'northeast'), (40, 'no', 'southeast'), (47, 'no', 'southwest'), (27, 'yes', 'southeast'), (21, 'no', 'northeast'), (47, 'no', 'southwest'), (20, 'no', 'northwest'), (24, 'no', 'northwest'), (27, 'no', 'southwest'), (26, 'no', 'northwest'), (53, 'no', 'northeast'), (41, 'yes', 'southeast'), (56, 'no', 'northwest'), (23, 'no', 'southeast'), (21, 'no', 'southeast'), (50, 'no', 'northeast'), (53, 'no', 'southeast'), (34, 'no', 'northwest'), (47, 'no', 'northwest'), (33, 'no', 'southwest'), (51, 'yes', 'southeast'), (49, 'no', 'northwest'), (31, 'no', 'northeast'), (36, 'no', 'northeast'), (18, 'no', 'southeast'), (50, 'no', 'southeast'), (43, 'no', 'northwest'), (20, 'no', 'northeast'), (24, 'no', 'southwest'), (60, 'no', 'southwest'), (49, 'no', 'northwest'), (60, 'no', 'northwest'), (51, 'no', 'northwest'), (58, 'no', 'northwest'), (51, 'no', 'northeast'), (53, 'no', 'southwest'), (62, 'no', 'southwest'), (19, 'no', 'southwest'), (50, 'no', 'northeast'), (30, 'yes', 'southeast'), (41, 'no', 'northwest'), (29, 'yes', 'northeast'), (18, 'no', 'northeast'), (41, 'no', 'southeast'), (35, 'yes', 'southeast'), (53, 'no', 'southwest'), (24, 'no', 'southwest'), (48, 'no', 'northeast'), (59, 'no', 'southwest'), (49, 'no', 'northwest'), (37, 'yes', 'southeast'), (26, 'no', 'southwest'), (23, 'yes', 'northeast'), (29, 'yes', 'southwest'), (45, 'no', 'northeast'), (27, 'yes', 'southeast'), (53, 'yes', 'northeast'), (31, 'no', 'southeast'), (50, 'no', 'northwest'), (50, 'no', 'northwest'), (34, 'no', 'southwest'), (19, 'no', 'northwest'), (47, 'no', 'southwest'), (28, 'no', 'northwest'), (37, 'yes', 'southeast'), (21, 'no', 'northwest'), (64, 'no', 'northwest'), (58, 'no', 'southeast'), (24, 'no', 'northeast'), (31, 'no', 'northeast'), (39, 'no', 'northeast'), (47, 'yes', 'southeast'), (30, 'no', 'northeast'), (18, 'yes', 'southeast'), (22, 'no', 'northeast'), (23, 'no', 'southwest'), (33, 'yes', 'southwest'), (27, 'no', 'northeast'), (45, 'no', 'northeast'), (57, 'no', 'northwest'), (47, 'no', 'southwest'), (42, 'no', 'southwest'), (64, 'no', 'southwest'), (38, 'no', 'northwest'), (61, 'no', 'southwest'), (53, 'no', 'southwest'), (44, 'no', 'northeast'), (19, 'yes', 'northwest'), (41, 'no', 'northwest'), (51, 'no', 'southeast'), (40, 'no', 'northwest'), (45, 'no', 'northeast'), (35, 'no', 'southeast'), (53, 'no', 'northwest'), (30, 'yes', 'southwest'), (18, 'no', 'southeast'), (51, 'no', 'southeast'), (50, 'yes', 'southwest'), (31, 'no', 'southeast'), (35, 'no', 'southwest'), (60, 'no', 'northeast'), (21, 'no', 'northwest'), (29, 'no', 'northeast'), (62, 'no', 'southeast'), (39, 'no', 'southeast'), (19, 'no', 'southwest'), (22, 'no', 'northeast'), (53, 'yes', 'southeast'), (39, 'no', 'northwest'), (27, 'yes', 'northwest'), (30, 'no', 'southeast'), (30, 'no', 'northeast'), (58, 'no', 'southwest'), (33, 'yes', 'northeast'), (42, 'no', 'southeast'), (64, 'no', 'southeast'), (21, 'no', 'southwest'), (18, 'yes', 'southeast'), (23, 'no', 'southeast'), (45, 'no', 'northwest'), (40, 'no', 'northwest'), (19, 'no', 'northwest'), (18, 'no', 'southeast'), (25, 'no', 'northeast'), (46, 'no', 'southwest'), (33, 'no', 'northwest'), (54, 'no', 'southeast'), (28, 'no', 'northeast'), (36, 'no', 'southeast'), (20, 'no', 'southeast'), (24, 'no', 'northwest'), (23, 'no', 'southwest'), (47, 'yes', 'northeast'), (33, 'yes', 'northwest'), (45, 'no', 'southwest'), (26, 'no', 'northwest'), (18, 'no', 'southeast'), (44, 'no', 'southeast'), (60, 'no', 'northwest'), (64, 'no', 'northeast'), (56, 'yes', 'southeast'), (36, 'yes', 'northeast'), (41, 'yes', 'northeast'), (39, 'no', 'northwest'), (63, 'no', 'southwest'), (36, 'no', 'northwest'), (28, 'no', 'northwest'), (58, 'no', 'northwest'), (36, 'no', 'northwest'), (42, 'no', 'southeast'), (36, 'no', 'southwest'), (56, 'no', 'northeast'), (35, 'no', 'northeast'), (59, 'no', 'northwest'), (21, 'no', 'southwest'), (59, 'no', 'northeast'), (23, 'yes', 'southeast'), (57, 'yes', 'southeast'), (53, 'no', 'northeast'), (60, 'yes', 'southeast'), (51, 'no', 'southwest'), (23, 'no', 'southeast'), (27, 'no', 'southwest'), (55, 'no', 'northwest'), (37, 'yes', 'northeast'), (61, 'no', 'northwest'), (46, 'yes', 'northeast'), (53, 'no', 'northeast'), (49, 'yes', 'northeast'), (20, 'no', 'southwest'), (48, 'yes', 'southeast'), (25, 'yes', 'northwest'), (25, 'no', 'southeast'), (57, 'no', 'southwest'), (37, 'yes', 'southwest'), (38, 'no', 'southwest'), (55, 'no', 'northwest'), (36, 'no', 'northeast'), (51, 'no', 'southwest'), (40, 'no', 'southwest'), (18, 'no', 'southeast'), (57, 'no', 'southwest'), (61, 'no', 'northeast'), (25, 'no', 'southwest'), (50, 'no', 'southwest'), (26, 'no', 'southeast'), (42, 'no', 'southeast'), (43, 'no', 'southwest'), (44, 'no', 'northeast'), (23, 'no', 'northwest'), (49, 'no', 'southwest'), (33, 'no', 'southeast'), (41, 'no', 'southwest'), (37, 'no', 'southwest'), (22, 'no', 'southwest'), (23, 'no', 'northwest'), (21, 'no', 'northeast'), (51, 'yes', 'northeast'), (25, 'no', 'northwest'), (32, 'yes', 'southeast'), (57, 'yes', 'northeast'), (36, 'no', 'northwest'), (22, 'no', 'southwest'), (57, 'no', 'northwest'), (64, 'yes', 'northwest'), (36, 'no', 'southeast'), (54, 'no', 'northeast'), (47, 'yes', 'southeast'), (62, 'no', 'northeast'), (61, 'no', 'southwest'), (43, 'yes', 'northeast'), (19, 'no', 'northwest'), (18, 'no', 'southeast'), (19, 'no', 'northwest'), (49, 'no', 'northeast'), (60, 'yes', 'southeast'), (26, 'no', 'northeast'), (49, 'no', 'southeast'), (60, 'no', 'southwest'), (26, 'no', 'northeast'), (27, 'no', 'northeast'), (44, 'no', 'southeast'), (63, 'no', 'southwest'), (32, 'yes', 'southwest'), (22, 'no', 'northwest'), (18, 'yes', 'northeast'), (59, 'no', 'northwest'), (44, 'no', 'southwest'), (33, 'no', 'northwest'), (24, 'no', 'southeast'), (43, 'yes', 'northwest'), (45, 'yes', 'northeast'), (61, 'no', 'southwest'), (35, 'no', 'southeast'), (62, 'no', 'southwest'), (62, 'no', 'southwest'), (38, 'no', 'southwest'), (34, 'no', 'northwest'), (43, 'no', 'southwest'), (50, 'no', 'northeast'), (19, 'no', 'southwest'), (57, 'no', 'southwest'), (62, 'no', 'southeast'), (41, 'no', 'southeast'), (26, 'no', 'southeast'), (39, 'no', 'southwest'), (46, 'no', 'southwest'), (45, 'no', 'southwest'), (32, 'no', 'southeast'), (59, 'no', 'southwest'), (44, 'no', 'northeast'), (39, 'no', 'northwest'), (18, 'no', 'southeast'), (53, 'no', 'southeast'), (18, 'no', 'southeast'), (50, 'no', 'southeast'), (18, 'no', 'northeast'), (19, 'no', 'northwest'), (62, 'no', 'southeast'), (56, 'no', 'southwest'), (42, 'no', 'southwest'), (37, 'yes', 'northeast'), (42, 'no', 'northwest'), (25, 'yes', 'southwest'), (57, 'no', 'northeast'), (51, 'yes', 'southeast'), (30, 'no', 'northwest'), (44, 'yes', 'southwest'), (34, 'yes', 'northwest'), (31, 'no', 'southeast'), (54, 'yes', 'southeast'), (24, 'no', 'northwest'), (43, 'yes', 'northeast'), (48, 'no', 'northwest'), (19, 'no', 'northwest'), (29, 'no', 'southwest'), (63, 'no', 'southeast'), (46, 'no', 'northeast'), (52, 'no', 'northwest'), (35, 'no', 'southwest'), (51, 'yes', 'northwest'), (44, 'no', 'northwest'), (21, 'no', 'northeast'), (39, 'no', 'southeast'), (50, 'no', 'southeast'), (34, 'no', 'northeast'), (22, 'no', 'northwest'), (19, 'no', 'southwest'), (26, 'no', 'southeast'), (29, 'yes', 'northeast'), (48, 'no', 'southeast'), (26, 'no', 'southeast'), (45, 'no', 'northeast'), (36, 'no', 'southeast'), (54, 'no', 'northeast'), (34, 'no', 'northeast'), (31, 'yes', 'southwest'), (27, 'no', 'northeast'), (20, 'no', 'northeast'), (44, 'no', 'southwest'), (43, 'no', 'northwest'), (45, 'no', 'northwest'), (34, 'no', 'northeast'), (24, 'yes', 'northeast'), (26, 'no', 'southwest'), (38, 'no', 'northeast'), (50, 'no', 'southwest'), (38, 'no', 'southeast'), (27, 'yes', 'northwest'), (39, 'no', 'northeast'), (39, 'no', 'southwest'), (63, 'no', 'southeast'), (33, 'no', 'northeast'), (36, 'no', 'northwest'), (30, 'yes', 'northwest'), (24, 'yes', 'southwest'), (24, 'no', 'southwest'), (48, 'no', 'southwest'), (47, 'no', 'northeast'), (29, 'no', 'northwest'), (28, 'no', 'northeast'), (47, 'yes', 'northwest'), (25, 'no', 'northeast'), (51, 'no', 'northeast'), (48, 'no', 'southwest'), (43, 'yes', 'southeast'), (61, 'no', 'southeast'), (48, 'no', 'northwest'), (38, 'no', 'southwest'), (59, 'no', 'northwest'), (19, 'no', 'northwest'), (26, 'no', 'southwest'), (54, 'no', 'northwest'), (21, 'no', 'northwest'), (51, 'no', 'southwest'), (22, 'yes', 'southeast'), (47, 'yes', 'southeast'), (18, 'no', 'southeast'), (47, 'no', 'southeast'), (21, 'no', 'southwest'), (19, 'yes', 'northwest'), (23, 'no', 'northwest'), (54, 'no', 'southwest'), (37, 'no', 'northeast'), (46, 'yes', 'northwest'), (55, 'yes', 'southeast'), (30, 'no', 'northeast'), (18, 'yes', 'northeast'), (61, 'no', 'northwest'), (54, 'no', 'southwest'), (22, 'yes', 'southeast'), (45, 'yes', 'northwest'), (22, 'no', 'northeast'), (19, 'no', 'northwest'), (35, 'yes', 'northwest'), (18, 'no', 'northeast'), (20, 'yes', 'northeast'), (28, 'no', 'southwest'), (55, 'no', 'northeast'), (43, 'yes', 'northwest'), (43, 'no', 'northeast'), (22, 'yes', 'southeast'), (25, 'no', 'northwest'), (49, 'yes', 'southwest'), (44, 'no', 'northwest'), (64, 'no', 'northeast'), (49, 'no', 'northeast'), (47, 'yes', 'southwest'), (27, 'no', 'northwest'), (55, 'no', 'northwest'), (48, 'no', 'southwest'), (45, 'no', 'southeast'), (24, 'no', 'southeast'), (32, 'no', 'northwest'), (24, 'no', 'southeast'), (57, 'no', 'southeast'), (59, 'yes', 'southeast'), (36, 'no', 'northwest'), (29, 'no', 'southwest'), (42, 'no', 'southwest'), (48, 'no', 'southeast'), (39, 'no', 'northeast'), (63, 'no', 'northwest'), (54, 'no', 'southeast'), (37, 'yes', 'southeast'), (63, 'no', 'northeast'), (21, 'no', 'northwest'), (54, 'no', 'northeast'), (60, 'no', 'northeast'), (32, 'no', 'southeast'), (47, 'no', 'southwest'), (21, 'no', 'northeast'), (28, 'yes', 'southeast'), (63, 'no', 'southeast'), (18, 'no', 'southeast'), (32, 'no', 'northwest'), (38, 'no', 'northwest'), (32, 'no', 'southwest'), (62, 'no', 'northwest'), (39, 'yes', 'southwest'), (55, 'no', 'northeast'), (57, 'no', 'northwest'), (52, 'no', 'southeast'), (56, 'no', 'southwest'), (47, 'yes', 'southeast'), (55, 'no', 'northeast'), (23, 'no', 'southwest'), (22, 'yes', 'northwest'), (50, 'no', 'southwest'), (18, 'no', 'northeast'), (51, 'yes', 'northeast'), (22, 'no', 'southeast'), (52, 'no', 'northeast'), (25, 'no', 'southeast'), (33, 'yes', 'northeast'), (53, 'no', 'southwest'), (29, 'no', 'southeast'), (58, 'no', 'southeast'), (37, 'no', 'southwest'), (54, 'no', 'southeast'), (49, 'no', 'northwest'), (50, 'no', 'northwest'), (26, 'no', 'southwest'), (45, 'no', 'southeast'), (54, 'no', 'northeast'), (38, 'yes', 'southeast'), (48, 'yes', 'southeast'), (28, 'no', 'northwest'), (23, 'no', 'northeast'), (55, 'no', 'southeast'), (41, 'no', 'northeast'), (25, 'yes', 'southeast'), (33, 'yes', 'southeast'), (30, 'no', 'northwest'), (23, 'yes', 'southwest'), (46, 'no', 'southeast'), (53, 'yes', 'northwest'), (27, 'no', 'northeast'), (23, 'yes', 'northeast'), (63, 'no', 'northwest'), (55, 'no', 'southwest'), (35, 'no', 'southeast'), (34, 'no', 'southwest'), (19, 'no', 'southwest'), (39, 'no', 'southeast'), (27, 'no', 'southwest'), (57, 'no', 'northeast'), (52, 'no', 'northwest'), (28, 'no', 'northwest'), (50, 'no', 'northwest'), (44, 'no', 'southwest'), (26, 'no', 'northwest'), (33, 'no', 'southeast'), (19, 'yes', 'northwest'), (50, 'no', 'southeast'), (41, 'no', 'southwest'), (52, 'no', 'southeast'), (39, 'no', 'southeast'), (50, 'no', 'southwest'), (52, 'no', 'northwest'), (60, 'yes', 'southwest'), (20, 'no', 'northwest'), (55, 'no', 'southwest'), (42, 'no', 'southwest'), (18, 'no', 'northeast'), (58, 'no', 'northwest'), (43, 'yes', 'southeast'), (35, 'no', 'northwest'), (48, 'no', 'northwest'), (36, 'no', 'northeast'), (19, 'yes', 'southeast'), (23, 'no', 'northwest'), (20, 'no', 'northeast'), (32, 'no', 'southwest'), (43, 'no', 'northwest'), (34, 'no', 'southeast'), (30, 'no', 'southeast'), (18, 'no', 'northeast'), (41, 'no', 'northwest'), (35, 'no', 'northeast'), (57, 'no', 'southeast'), (29, 'no', 'southwest'), (32, 'no', 'southwest'), (37, 'no', 'northwest'), (18, 'yes', 'northeast'), (43, 'yes', 'southwest'), (56, 'no', 'southeast'), (38, 'no', 'northwest'), (29, 'no', 'northwest'), (22, 'no', 'southwest'), (52, 'yes', 'northwest'), (40, 'no', 'southwest'), (23, 'no', 'northeast'), (31, 'yes', 'southeast'), (42, 'no', 'northeast'), (24, 'no', 'northwest'), (25, 'no', 'southwest'), (48, 'no', 'northeast'), (23, 'yes', 'southeast'), (45, 'no', 'northeast'), (20, 'yes', 'northwest'), (62, 'no', 'northwest'), (43, 'yes', 'northeast'), (23, 'no', 'southwest'), (31, 'no', 'northwest'), (41, 'no', 'northeast'), (58, 'no', 'northeast'), (48, 'no', 'northwest'), (31, 'no', 'northwest'), (19, 'no', 'northwest'), (19, 'yes', 'northwest'), (41, 'no', 'southeast'), (40, 'no', 'northwest'), (31, 'no', 'southwest'), (37, 'no', 'northwest'), (46, 'no', 'northwest'), (22, 'no', 'northwest'), (51, 'no', 'northeast'), (18, 'yes', 'southeast'), (35, 'no', 'northwest'), (59, 'no', 'southwest'), (36, 'yes', 'southwest'), (37, 'yes', 'northeast'), (59, 'no', 'southwest'), (36, 'no', 'northwest'), (39, 'no', 'southeast'), (18, 'no', 'northeast'), (52, 'no', 'southwest'), (27, 'no', 'northwest'), (18, 'no', 'northeast'), (40, 'no', 'southeast'), (29, 'no', 'southeast'), (46, 'yes', 'southwest'), (38, 'no', 'northwest'), (30, 'no', 'northeast'), (40, 'no', 'southeast'), (50, 'no', 'southeast'), (20, 'yes', 'southeast'), (41, 'no', 'northeast'), (33, 'no', 'southeast'), (38, 'no', 'northeast'), (42, 'no', 'southeast'), (56, 'no', 'southeast'), (58, 'no', 'northeast'), (52, 'yes', 'northwest'), (20, 'yes', 'southwest'), (54, 'no', 'northwest'), (58, 'no', 'southwest'), (45, 'no', 'southeast'), (26, 'no', 'northwest'), (63, 'no', 'northeast'), (58, 'no', 'northwest'), (37, 'no', 'northeast'), (25, 'no', 'southeast'), (52, 'yes', 'southeast'), (64, 'yes', 'southeast'), (22, 'no', 'northwest'), (28, 'no', 'southeast'), (18, 'no', 'southeast'), (28, 'no', 'southwest'), (45, 'no', 'southwest'), (33, 'no', 'southwest'), (18, 'no', 'southeast'), (32, 'yes', 'northeast'), (24, 'yes', 'northeast'), (19, 'no', 'southwest'), (20, 'yes', 'southwest'), (40, 'no', 'southwest'), (34, 'no', 'southeast'), (42, 'no', 'southwest'), (51, 'no', 'northwest'), (54, 'no', 'northwest'), (55, 'no', 'northwest'), (52, 'no', 'northeast'), (32, 'no', 'northeast'), (28, 'no', 'southwest'), (41, 'no', 'southeast'), (43, 'no', 'southwest'), (49, 'no', 'northeast'), (64, 'yes', 'southeast'), (55, 'no', 'southwest'), (24, 'yes', 'northeast'), (20, 'no', 'southwest'), (45, 'no', 'southwest'), (26, 'no', 'northwest'), (25, 'no', 'northwest'), (43, 'no', 'southeast'), (35, 'no', 'southeast'), (26, 'yes', 'southeast'), (57, 'no', 'southwest'), (22, 'no', 'northeast'), (32, 'no', 'northwest'), (39, 'yes', 'northeast'), (25, 'no', 'northwest'), (48, 'no', 'southeast'), (47, 'yes', 'northwest'), (18, 'yes', 'northeast'), (18, 'no', 'southeast'), (61, 'yes', 'southwest'), (47, 'no', 'northeast'), (28, 'no', 'northeast'), (36, 'no', 'southwest'), (20, 'yes', 'southwest'), (44, 'no', 'southeast'), (38, 'no', 'northeast'), (19, 'yes', 'southwest'), (21, 'no', 'southeast'), (46, 'no', 'northwest'), (58, 'no', 'northeast'), (20, 'no', 'southwest'), (18, 'no', 'northeast'), (28, 'no', 'southeast'), (33, 'no', 'northwest'), (19, 'no', 'northwest'), (45, 'yes', 'southeast'), (62, 'yes', 'northwest'), (25, 'no', 'southwest'), (43, 'yes', 'southwest'), (42, 'yes', 'northeast'), (24, 'no', 'southeast'), (29, 'yes', 'northeast'), (32, 'yes', 'northwest'), (25, 'yes', 'southwest'), (41, 'no', 'southwest'), (42, 'no', 'northwest'), (33, 'no', 'northwest'), (34, 'no', 'southwest'), (19, 'yes', 'southwest'), (30, 'yes', 'northwest'), (18, 'no', 'northeast'), (19, 'no', 'southwest'), (18, 'no', 'southeast'), (35, 'no', 'northeast'), (39, 'no', 'northwest'), (31, 'no', 'northwest'), (62, 'yes', 'northeast'), (62, 'no', 'southeast'), (42, 'yes', 'southeast'), (31, 'no', 'northwest'), (61, 'no', 'northeast'), (42, 'no', 'northeast'), (51, 'no', 'southeast'), (23, 'no', 'northeast'), (52, 'no', 'southwest'), (57, 'no', 'southeast'), (23, 'no', 'southwest'), (52, 'no', 'southwest'), (50, 'no', 'northwest'), (18, 'no', 'northeast'), (18, 'no', 'southeast'), (21, 'no', 'southwest'), (61, 'yes', 'northwest')]\n"
     ]
    }
   ],
   "source": [
    "print(ages_smokers_regions)"
   ]
  },
  {
   "cell_type": "markdown",
   "metadata": {},
   "source": [
    "### Build out analysis functions or class methods\n",
    "*You now have everything you need to begin your analysis. You have organized the information from insurance.csv and have spent some time thinking about what it is you would like to investigate.\n",
    "Now is the time to build out how you perform these investigations. Use the Python fundamentals you have learned so far to accomplish these tasks. There are many different ways you can achieve these analyses. In our hint, we will provide some ideas for how you can use Python to analyze data.*"
   ]
  },
  {
   "cell_type": "markdown",
   "metadata": {},
   "source": [
    "Firs of all, as I am investigating from the geographical perspective, I need to be sure that the sample is well balanced between the 4 existing regions:"
   ]
  },
  {
   "cell_type": "code",
   "execution_count": 38,
   "metadata": {},
   "outputs": [],
   "source": [
    "total_ne_values = regions.count('northeast')\n",
    "total_nw_values = regions.count('northwest')\n",
    "total_se_values = regions.count('southeast')\n",
    "total_sw_values = regions.count('southwest')"
   ]
  },
  {
   "cell_type": "code",
   "execution_count": 40,
   "metadata": {},
   "outputs": [
    {
     "name": "stdout",
     "output_type": "stream",
     "text": [
      "In the dataset, there are 324 patients from NorthEast\n",
      "In the dataset, there are 325 patients from NorthWest\n",
      "In the dataset, there are 364 patients from SouthEast\n",
      "In the dataset, there are 325 patients from SouthWest\n"
     ]
    }
   ],
   "source": [
    "print('In the dataset, there are ' + str(total_ne_values) + ' patients from NorthEast')\n",
    "print('In the dataset, there are ' + str(total_nw_values) + ' patients from NorthWest')\n",
    "print('In the dataset, there are ' + str(total_se_values) + ' patients from SouthEast')\n",
    "print('In the dataset, there are ' + str(total_sw_values) + ' patients from SouthWest')"
   ]
  },
  {
   "cell_type": "markdown",
   "metadata": {},
   "source": [
    "Except for a little excess for the SouthEast, the sample is well balanced geographically speaking.\n",
    "\n",
    "\n",
    "\n",
    "Now: I must detect in the list only the record that counts for the analysis I am willing to do. Meaning: all and only the records where the age is equal or lower than 21 and the smoker status is yes"
   ]
  },
  {
   "cell_type": "code",
   "execution_count": 41,
   "metadata": {},
   "outputs": [],
   "source": [
    "ages_smokers_regions_new = []\n",
    "for record in ages_smokers_regions:\n",
    "    if record[0] <= 21 and record[1] == 'yes':\n",
    "        ages_smokers_regions_new.append(record)"
   ]
  },
  {
   "cell_type": "code",
   "execution_count": 42,
   "metadata": {},
   "outputs": [
    {
     "name": "stdout",
     "output_type": "stream",
     "text": [
      "[(19, 'yes', 'southwest'), (18, 'yes', 'southeast'), (20, 'yes', 'northwest'), (20, 'yes', 'northwest'), (19, 'yes', 'southwest'), (18, 'yes', 'northeast'), (18, 'yes', 'southeast'), (19, 'yes', 'southwest'), (19, 'yes', 'northwest'), (18, 'yes', 'northeast'), (19, 'yes', 'northwest'), (20, 'yes', 'southeast'), (19, 'yes', 'northwest'), (19, 'yes', 'southwest'), (19, 'yes', 'southwest'), (21, 'yes', 'southwest'), (19, 'yes', 'southeast'), (21, 'yes', 'northeast'), (19, 'yes', 'northwest'), (19, 'yes', 'southeast'), (18, 'yes', 'northeast'), (18, 'yes', 'southeast'), (19, 'yes', 'northwest'), (18, 'yes', 'southeast'), (18, 'yes', 'northeast'), (19, 'yes', 'northwest'), (18, 'yes', 'northeast'), (20, 'yes', 'northeast'), (19, 'yes', 'northwest'), (19, 'yes', 'southeast'), (18, 'yes', 'northeast'), (20, 'yes', 'northwest'), (19, 'yes', 'northwest'), (18, 'yes', 'southeast'), (20, 'yes', 'southeast'), (20, 'yes', 'southwest'), (20, 'yes', 'southwest'), (18, 'yes', 'northeast'), (20, 'yes', 'southwest'), (19, 'yes', 'southwest'), (19, 'yes', 'southwest')]\n"
     ]
    }
   ],
   "source": [
    "print(ages_smokers_regions_new)"
   ]
  },
  {
   "cell_type": "code",
   "execution_count": 43,
   "metadata": {},
   "outputs": [],
   "source": [
    "regions_final_list = [e3 for e1, e2, e3 in ages_smokers_regions_new] "
   ]
  },
  {
   "cell_type": "code",
   "execution_count": 44,
   "metadata": {},
   "outputs": [
    {
     "name": "stdout",
     "output_type": "stream",
     "text": [
      "['southwest', 'southeast', 'northwest', 'northwest', 'southwest', 'northeast', 'southeast', 'southwest', 'northwest', 'northeast', 'northwest', 'southeast', 'northwest', 'southwest', 'southwest', 'southwest', 'southeast', 'northeast', 'northwest', 'southeast', 'northeast', 'southeast', 'northwest', 'southeast', 'northeast', 'northwest', 'northeast', 'northeast', 'northwest', 'southeast', 'northeast', 'northwest', 'northwest', 'southeast', 'southeast', 'southwest', 'southwest', 'northeast', 'southwest', 'southwest', 'southwest']\n"
     ]
    }
   ],
   "source": [
    "print(regions_final_list)"
   ]
  },
  {
   "cell_type": "markdown",
   "metadata": {},
   "source": [
    "I can count the values per each region to determine which has the major number of smokers (among the full age sample):"
   ]
  },
  {
   "cell_type": "markdown",
   "metadata": {},
   "source": [
    "I sort the list to check the different values easier:"
   ]
  },
  {
   "cell_type": "code",
   "execution_count": 17,
   "metadata": {},
   "outputs": [],
   "source": [
    "sorted_region_list = sorted(regions_final_list)"
   ]
  },
  {
   "cell_type": "code",
   "execution_count": 18,
   "metadata": {},
   "outputs": [
    {
     "name": "stdout",
     "output_type": "stream",
     "text": [
      "['northeast', 'northeast', 'northeast', 'northeast', 'northeast', 'northeast', 'northeast', 'northeast', 'northeast', 'northwest', 'northwest', 'northwest', 'northwest', 'northwest', 'northwest', 'northwest', 'northwest', 'northwest', 'northwest', 'northwest', 'southeast', 'southeast', 'southeast', 'southeast', 'southeast', 'southeast', 'southeast', 'southeast', 'southeast', 'southeast', 'southwest', 'southwest', 'southwest', 'southwest', 'southwest', 'southwest', 'southwest', 'southwest', 'southwest', 'southwest', 'southwest']\n"
     ]
    }
   ],
   "source": [
    "print(sorted_region_list)"
   ]
  },
  {
   "cell_type": "code",
   "execution_count": 19,
   "metadata": {},
   "outputs": [],
   "source": [
    "northeast_count = sorted_region_list.count('northeast')\n",
    "northwest_count = sorted_region_list.count('northwest')\n",
    "southeast_count = sorted_region_list.count('southeast')\n",
    "southwest_count = sorted_region_list.count('southwest')"
   ]
  },
  {
   "cell_type": "code",
   "execution_count": 48,
   "metadata": {},
   "outputs": [
    {
     "name": "stdout",
     "output_type": "stream",
     "text": [
      "NorthEast has 9 underage smokers patients out of 324 total patients\n",
      "NorthWest has 11 underage smokers patients out of 325 total patients\n",
      "SouthEast has 10 underage smokers patients out of 364 total patients\n",
      "SouthWest has 11 underage smokers patients out of 325 total patients\n"
     ]
    }
   ],
   "source": [
    "print('NorthEast has ' + str(northeast_count) + ' underage smokers patients out of ' +str(total_ne_values) + ' total patients')\n",
    "print('NorthWest has ' + str(northwest_count) + ' underage smokers patients out of ' +str(total_nw_values) + ' total patients')\n",
    "print('SouthEast has ' + str(southeast_count) + ' underage smokers patients out of ' +str(total_se_values) + ' total patients')\n",
    "print('SouthWest has ' + str(southwest_count) + ' underage smokers patients out of ' +str(total_sw_values) + ' total patients')"
   ]
  },
  {
   "cell_type": "markdown",
   "metadata": {},
   "source": [
    "**Southwest** and **Northwest**  have the same highest ratio of underage smokers in the dataset sample: 11 out of 325. Therefore, these are the Regions of the United States where I might want to focus the TV advertising campaign \n",
    "\n",
    "How can I determine which Region to choose between the two? "
   ]
  },
  {
   "cell_type": "markdown",
   "metadata": {},
   "source": [
    "Let's try counting the **total numbers of smokers** for the two region (Southwest and Northwest), not only underage ones:"
   ]
  },
  {
   "cell_type": "code",
   "execution_count": 24,
   "metadata": {},
   "outputs": [],
   "source": [
    "total_smokers_sw = []\n",
    "for record in ages_smokers_regions:\n",
    "    if record[1] == 'yes' and record[2] == 'southwest':\n",
    "        total_smokers_sw.append(record)"
   ]
  },
  {
   "cell_type": "code",
   "execution_count": 25,
   "metadata": {},
   "outputs": [
    {
     "name": "stdout",
     "output_type": "stream",
     "text": [
      "[(19, 'yes', 'southwest'), (30, 'yes', 'southwest'), (31, 'yes', 'southwest'), (22, 'yes', 'southwest'), (28, 'yes', 'southwest'), (60, 'yes', 'southwest'), (48, 'yes', 'southwest'), (37, 'yes', 'southwest'), (64, 'yes', 'southwest'), (38, 'yes', 'southwest'), (19, 'yes', 'southwest'), (63, 'yes', 'southwest'), (19, 'yes', 'southwest'), (63, 'yes', 'southwest'), (50, 'yes', 'southwest'), (19, 'yes', 'southwest'), (27, 'yes', 'southwest'), (34, 'yes', 'southwest'), (64, 'yes', 'southwest'), (19, 'yes', 'southwest'), (26, 'yes', 'southwest'), (36, 'yes', 'southwest'), (33, 'yes', 'southwest'), (42, 'yes', 'southwest'), (54, 'yes', 'southwest'), (21, 'yes', 'southwest'), (29, 'yes', 'southwest'), (39, 'yes', 'southwest'), (30, 'yes', 'southwest'), (49, 'yes', 'southwest'), (37, 'yes', 'southwest'), (39, 'yes', 'southwest'), (29, 'yes', 'southwest'), (33, 'yes', 'southwest'), (30, 'yes', 'southwest'), (50, 'yes', 'southwest'), (37, 'yes', 'southwest'), (32, 'yes', 'southwest'), (25, 'yes', 'southwest'), (44, 'yes', 'southwest'), (31, 'yes', 'southwest'), (24, 'yes', 'southwest'), (49, 'yes', 'southwest'), (47, 'yes', 'southwest'), (39, 'yes', 'southwest'), (23, 'yes', 'southwest'), (60, 'yes', 'southwest'), (43, 'yes', 'southwest'), (36, 'yes', 'southwest'), (46, 'yes', 'southwest'), (20, 'yes', 'southwest'), (20, 'yes', 'southwest'), (61, 'yes', 'southwest'), (20, 'yes', 'southwest'), (19, 'yes', 'southwest'), (43, 'yes', 'southwest'), (25, 'yes', 'southwest'), (19, 'yes', 'southwest')]\n"
     ]
    }
   ],
   "source": [
    "print(total_smokers_sw)"
   ]
  },
  {
   "cell_type": "code",
   "execution_count": 26,
   "metadata": {},
   "outputs": [],
   "source": [
    "count_southwest = len(total_smokers_sw)"
   ]
  },
  {
   "cell_type": "code",
   "execution_count": 49,
   "metadata": {},
   "outputs": [
    {
     "name": "stdout",
     "output_type": "stream",
     "text": [
      "The smokers patients in SouthWest are 58\n"
     ]
    }
   ],
   "source": [
    "print('The smokers patients in SouthWest are ' + str(count_southwest))"
   ]
  },
  {
   "cell_type": "code",
   "execution_count": 50,
   "metadata": {},
   "outputs": [],
   "source": [
    "total_smokers_nw = []\n",
    "for record in ages_smokers_regions:\n",
    "    if record[1] == 'yes' and record[2] == 'northwest':\n",
    "        total_smokers_nw.append(record)"
   ]
  },
  {
   "cell_type": "code",
   "execution_count": 51,
   "metadata": {},
   "outputs": [
    {
     "name": "stdout",
     "output_type": "stream",
     "text": [
      "[(58, 'yes', 'northwest'), (20, 'yes', 'northwest'), (45, 'yes', 'northwest'), (57, 'yes', 'northwest'), (20, 'yes', 'northwest'), (32, 'yes', 'northwest'), (30, 'yes', 'northwest'), (46, 'yes', 'northwest'), (42, 'yes', 'northwest'), (19, 'yes', 'northwest'), (56, 'yes', 'northwest'), (19, 'yes', 'northwest'), (19, 'yes', 'northwest'), (31, 'yes', 'northwest'), (45, 'yes', 'northwest'), (52, 'yes', 'northwest'), (23, 'yes', 'northwest'), (63, 'yes', 'northwest'), (56, 'yes', 'northwest'), (61, 'yes', 'northwest'), (49, 'yes', 'northwest'), (35, 'yes', 'northwest'), (48, 'yes', 'northwest'), (34, 'yes', 'northwest'), (19, 'yes', 'northwest'), (59, 'yes', 'northwest'), (44, 'yes', 'northwest'), (42, 'yes', 'northwest'), (40, 'yes', 'northwest'), (60, 'yes', 'northwest'), (19, 'yes', 'northwest'), (27, 'yes', 'northwest'), (33, 'yes', 'northwest'), (25, 'yes', 'northwest'), (64, 'yes', 'northwest'), (43, 'yes', 'northwest'), (34, 'yes', 'northwest'), (51, 'yes', 'northwest'), (27, 'yes', 'northwest'), (30, 'yes', 'northwest'), (47, 'yes', 'northwest'), (19, 'yes', 'northwest'), (46, 'yes', 'northwest'), (45, 'yes', 'northwest'), (35, 'yes', 'northwest'), (43, 'yes', 'northwest'), (22, 'yes', 'northwest'), (53, 'yes', 'northwest'), (19, 'yes', 'northwest'), (52, 'yes', 'northwest'), (20, 'yes', 'northwest'), (19, 'yes', 'northwest'), (52, 'yes', 'northwest'), (47, 'yes', 'northwest'), (62, 'yes', 'northwest'), (32, 'yes', 'northwest'), (30, 'yes', 'northwest'), (61, 'yes', 'northwest')]\n"
     ]
    }
   ],
   "source": [
    "print(total_smokers_nw)"
   ]
  },
  {
   "cell_type": "code",
   "execution_count": 52,
   "metadata": {},
   "outputs": [],
   "source": [
    "count_northwest = len(total_smokers_nw)"
   ]
  },
  {
   "cell_type": "code",
   "execution_count": 53,
   "metadata": {},
   "outputs": [
    {
     "name": "stdout",
     "output_type": "stream",
     "text": [
      "The smokers patients in NorthWest are 58\n"
     ]
    }
   ],
   "source": [
    "print('The smokers patients in NorthWest are ' + str(count_northwest))"
   ]
  },
  {
   "cell_type": "markdown",
   "metadata": {},
   "source": [
    "Again, the same number for the 2 regions: 58! "
   ]
  },
  {
   "cell_type": "markdown",
   "metadata": {},
   "source": [
    "Let's try investigating how many **smokers patients are below 35** (rather than 21) in each Region (NW and SW):"
   ]
  },
  {
   "cell_type": "code",
   "execution_count": 64,
   "metadata": {},
   "outputs": [
    {
     "name": "stdout",
     "output_type": "stream",
     "text": [
      "[(19, 'yes', 'southwest'), (30, 'yes', 'southwest'), (31, 'yes', 'southwest'), (22, 'yes', 'southwest'), (28, 'yes', 'southwest'), (19, 'yes', 'southwest'), (19, 'yes', 'southwest'), (19, 'yes', 'southwest'), (27, 'yes', 'southwest'), (34, 'yes', 'southwest'), (19, 'yes', 'southwest'), (26, 'yes', 'southwest'), (33, 'yes', 'southwest'), (21, 'yes', 'southwest'), (29, 'yes', 'southwest'), (30, 'yes', 'southwest'), (29, 'yes', 'southwest'), (33, 'yes', 'southwest'), (30, 'yes', 'southwest'), (32, 'yes', 'southwest'), (25, 'yes', 'southwest'), (31, 'yes', 'southwest'), (24, 'yes', 'southwest'), (23, 'yes', 'southwest'), (20, 'yes', 'southwest'), (20, 'yes', 'southwest'), (20, 'yes', 'southwest'), (19, 'yes', 'southwest'), (25, 'yes', 'southwest'), (19, 'yes', 'southwest')]\n",
      "[(20, 'yes', 'northwest'), (20, 'yes', 'northwest'), (32, 'yes', 'northwest'), (30, 'yes', 'northwest'), (19, 'yes', 'northwest'), (19, 'yes', 'northwest'), (19, 'yes', 'northwest'), (31, 'yes', 'northwest'), (23, 'yes', 'northwest'), (35, 'yes', 'northwest'), (34, 'yes', 'northwest'), (19, 'yes', 'northwest'), (19, 'yes', 'northwest'), (27, 'yes', 'northwest'), (33, 'yes', 'northwest'), (25, 'yes', 'northwest'), (34, 'yes', 'northwest'), (27, 'yes', 'northwest'), (30, 'yes', 'northwest'), (19, 'yes', 'northwest'), (35, 'yes', 'northwest'), (22, 'yes', 'northwest'), (19, 'yes', 'northwest'), (20, 'yes', 'northwest'), (19, 'yes', 'northwest'), (32, 'yes', 'northwest'), (30, 'yes', 'northwest')]\n"
     ]
    }
   ],
   "source": [
    "sw_below_35 = []\n",
    "for record in total_smokers_sw:\n",
    "    if record[0] <= 35:\n",
    "        sw_below_35.append(record)\n",
    "        \n",
    "nw_below_35 = []\n",
    "for record in total_smokers_nw:\n",
    "    if record[0] <= 35:\n",
    "        nw_below_35.append(record)\n",
    "        \n",
    "print(sw_below_35)\n",
    "\n",
    "print(nw_below_35)"
   ]
  },
  {
   "cell_type": "code",
   "execution_count": 65,
   "metadata": {
    "scrolled": true
   },
   "outputs": [
    {
     "name": "stdout",
     "output_type": "stream",
     "text": [
      "In SouthWest 30 smokers patients are younger or 35 years old\n",
      "In NorthWest 27 smokers patients are younger or 35 years old\n"
     ]
    }
   ],
   "source": [
    "count_sw_below_35 = len(sw_below_35)\n",
    "print('In SouthWest ' + str(count_sw_below_35) + ' smokers patients are younger or 35 years old')\n",
    "\n",
    "count_nw_below_35 = len(nw_below_35)\n",
    "print('In NorthWest ' + str(count_nw_below_35) + ' smokers patients are younger or 35 years old')"
   ]
  },
  {
   "cell_type": "markdown",
   "metadata": {},
   "source": [
    "To sum up: \n",
    "- in Southwest there are 58 smokers out of 325 total patients, of which 30 are 35 years old or younger, of which 11 are underage;\n",
    "- in Northhwest there are 58 smokers out of 325 total patients, of which 27 are 35 years old or younger, of which 11 are underage;\n",
    "\n",
    "Given this finding, we pick **Southwest** !!!\n"
   ]
  },
  {
   "cell_type": "code",
   "execution_count": 75,
   "metadata": {},
   "outputs": [
    {
     "name": "stdout",
     "output_type": "stream",
     "text": [
      "SW Ratio: 9.23\n",
      "NW Ratio: 8.31\n"
     ]
    }
   ],
   "source": [
    "print('SW Ratio: ' + str(round(count_sw_below_35 / total_sw_values * 100, 2)))\n",
    "print('NW Ratio: ' + str(round(count_nw_below_35 / total_nw_values * 100, 2)))"
   ]
  }
 ],
 "metadata": {
  "kernelspec": {
   "display_name": "Python 3",
   "language": "python",
   "name": "python3"
  },
  "language_info": {
   "codemirror_mode": {
    "name": "ipython",
    "version": 3
   },
   "file_extension": ".py",
   "mimetype": "text/x-python",
   "name": "python",
   "nbconvert_exporter": "python",
   "pygments_lexer": "ipython3",
   "version": "3.8.3"
  }
 },
 "nbformat": 4,
 "nbformat_minor": 4
}
